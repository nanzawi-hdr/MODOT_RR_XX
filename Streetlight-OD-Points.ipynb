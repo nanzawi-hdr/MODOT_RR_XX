{
 "cells": [
  {
   "cell_type": "code",
   "execution_count": 1,
   "id": "eb32e8c8-4691-4509-b434-3067480f2066",
   "metadata": {
    "tags": []
   },
   "outputs": [],
   "source": [
    "import janitor\n",
    "import pandas\n",
    "import geopandas\n",
    "from path import Path\n",
    "import os\n",
    "import numpy\n",
    "import sys\n",
    "import re\n",
    "from functools import reduce\n",
    "import matplotlib.pyplot as plt\n",
    "from shapely.geometry import Point, Polygon"
   ]
  },
  {
   "cell_type": "code",
   "execution_count": 108,
   "id": "d02e2648-d4ee-4f31-a642-a61ee836b41b",
   "metadata": {
    "tags": []
   },
   "outputs": [],
   "source": [
    "import seaborn as sns"
   ]
  },
  {
   "cell_type": "code",
   "execution_count": 2,
   "id": "2f19e9e4-ba6a-4225-a291-2b1ef69cc76b",
   "metadata": {
    "tags": []
   },
   "outputs": [],
   "source": [
    "from utils import _geo_merge"
   ]
  },
  {
   "cell_type": "code",
   "execution_count": 3,
   "id": "da78dac3-9780-4e8b-906f-7be284786b6c",
   "metadata": {
    "tags": []
   },
   "outputs": [],
   "source": [
    "# path configuration\n",
    "working_directory = Path.getcwd()\n",
    "\n",
    "inputs_path = working_directory / 'inputs'\n",
    "outputs_path = working_directory / 'outputs'"
   ]
  },
  {
   "cell_type": "code",
   "execution_count": 4,
   "id": "0e32c492-62bc-4aa4-abb6-fec06afde874",
   "metadata": {
    "tags": []
   },
   "outputs": [],
   "source": [
    "# export function\n",
    "def to_file(callback, desired_name, extension='csv'):\n",
    "    current_files = sorted(outputs_path.files(desired_name + '*.' + extension))\n",
    "    if current_files:\n",
    "        last_file = current_files[-1]\n",
    "        os.remove(last_file)\n",
    "    final_name = '{}.{}'.format(desired_name, extension)\n",
    "    callback(outputs_path / final_name)"
   ]
  },
  {
   "cell_type": "code",
   "execution_count": 16,
   "id": "6849f866-1fe9-4b2e-a163-1b7d099d48ad",
   "metadata": {
    "tags": []
   },
   "outputs": [],
   "source": [
    "# path to csv dataframe\n",
    "df_path = inputs_path / '1541905_MoDotIntersections_TopRoutes_OD_Covered/1541905_MoDotIntersections_TopRoutes_OD_Covered/1541905_MoDotIntersections_TopRoutes_OD_Covered_tr_od.csv'\n",
    "\n",
    "\n",
    "# path to geodataframes\n",
    "dest_path = inputs_path / '1541905_MoDotIntersections_TopRoutes_OD_Covered/Shapefile/1541905_MoDotIntersections_TopRoutes_OD_Covered_destination/1541905_MoDotIntersections_TopRoutes_OD_Covered_destination.shp'\n",
    "dest_line_path = inputs_path / '1541905_MoDotIntersections_TopRoutes_OD_Covered/Shapefile/1541905_MoDotIntersections_TopRoutes_OD_Covered_destination_line/1541905_MoDotIntersections_TopRoutes_OD_Covered_destination_line.shp'\n",
    "org_path = inputs_path / '1541905_MoDotIntersections_TopRoutes_OD_Covered/Shapefile/1541905_MoDotIntersections_TopRoutes_OD_Covered_origin/1541905_MoDotIntersections_TopRoutes_OD_Covered_origin.shp'\n",
    "org_line_path = inputs_path / '1541905_MoDotIntersections_TopRoutes_OD_Covered/Shapefile/1541905_MoDotIntersections_TopRoutes_OD_Covered_osm_segment/1541905_MoDotIntersections_TopRoutes_OD_Covered_osm_segment.shp'\n",
    "seg_path = inputs_path / '1541905_MoDotIntersections_TopRoutes_OD_Covered/Shapefile/1541905_MoDotIntersections_TopRoutes_OD_Covered_osm_segment/1541905_MoDotIntersections_TopRoutes_OD_Covered_osm_segment.shp'"
   ]
  },
  {
   "cell_type": "code",
   "execution_count": 38,
   "id": "2b7505e1-cdae-45fb-a97b-e8358ff6db0a",
   "metadata": {
    "tags": []
   },
   "outputs": [],
   "source": [
    "# restore mo_places and zone_points\n",
    "%store -r mo_places"
   ]
  },
  {
   "cell_type": "code",
   "execution_count": null,
   "id": "0b5c9454-4a46-416d-a47e-932ee85b66d8",
   "metadata": {
    "tags": []
   },
   "outputs": [],
   "source": [
    "# read in files\n",
    "\n",
    "df = pandas.read_csv(df_path).clean_names()\n",
    "\n",
    "# read in geos\n",
    "geo_dest = geopandas.read_file(dest_path)\n",
    "\n",
    "geo_dest_line = geopandas.read_file(dest_line_path)\n",
    "\n",
    "geo_seg = geopandas.read_file(seg_path)\n",
    "\n",
    "geo_org = geopandas.read_file(org_path)\n",
    "\n",
    "geo_org_line = geopandas.read_file(org_line_path)"
   ]
  },
  {
   "cell_type": "code",
   "execution_count": 59,
   "id": "9eb8dd42-cd6a-41ed-a2e6-aa288fc09cb6",
   "metadata": {
    "tags": []
   },
   "outputs": [],
   "source": [
    "# drop unneeded row values\n",
    "\n",
    "df = df[df.origin_zone_name!='South First Street / 719359682 / 1']"
   ]
  },
  {
   "cell_type": "code",
   "execution_count": 26,
   "id": "56cab471-36e4-404b-85a9-b0b05d0b5b79",
   "metadata": {
    "tags": []
   },
   "outputs": [
    {
     "data": {
      "text/html": [
       "<div>\n",
       "<style scoped>\n",
       "    .dataframe tbody tr th:only-of-type {\n",
       "        vertical-align: middle;\n",
       "    }\n",
       "\n",
       "    .dataframe tbody tr th {\n",
       "        vertical-align: top;\n",
       "    }\n",
       "\n",
       "    .dataframe thead th {\n",
       "        text-align: right;\n",
       "    }\n",
       "</style>\n",
       "<table border=\"1\" class=\"dataframe\">\n",
       "  <thead>\n",
       "    <tr style=\"text-align: right;\">\n",
       "      <th></th>\n",
       "      <th>mode_of_travel</th>\n",
       "      <th>vehicle_weight</th>\n",
       "      <th>origin_zone_id</th>\n",
       "      <th>origin_zone_name</th>\n",
       "      <th>origin_zone_is_pass_through</th>\n",
       "      <th>origin_zone_direction_degrees_</th>\n",
       "      <th>origin_zone_is_bi_direction</th>\n",
       "      <th>segment_id</th>\n",
       "      <th>segment_name</th>\n",
       "      <th>segment_type</th>\n",
       "      <th>...</th>\n",
       "      <th>destination_zone_is_pass_through</th>\n",
       "      <th>destination_zone_direction_degrees_</th>\n",
       "      <th>destination_zone_is_bi_direction</th>\n",
       "      <th>day_type</th>\n",
       "      <th>day_part</th>\n",
       "      <th>average_daily_o_s_d_traffic_stl_volume_</th>\n",
       "      <th>average_daily_o_d_traffic_stl_volume_</th>\n",
       "      <th>average_daily_origin_zone_traffic_stl_volume_</th>\n",
       "      <th>average_daily_destination_zone_traffic_stl_volume_</th>\n",
       "      <th>trip_proportion</th>\n",
       "    </tr>\n",
       "  </thead>\n",
       "  <tbody>\n",
       "    <tr>\n",
       "      <th>0</th>\n",
       "      <td>All Vehicles LBS Plus - StL All Vehicles Volume</td>\n",
       "      <td>All</td>\n",
       "      <td>4607888.0</td>\n",
       "      <td>A4607888</td>\n",
       "      <td>yes</td>\n",
       "      <td>36</td>\n",
       "      <td>yes</td>\n",
       "      <td>1000524819</td>\n",
       "      <td>Jackson Street / 18391192 / 1</td>\n",
       "      <td>Residential</td>\n",
       "      <td>...</td>\n",
       "      <td>yes</td>\n",
       "      <td>52</td>\n",
       "      <td>yes</td>\n",
       "      <td>0: All Days (M-Su)</td>\n",
       "      <td>0: All Day (12am-12am)</td>\n",
       "      <td>0.0</td>\n",
       "      <td>20</td>\n",
       "      <td>7542</td>\n",
       "      <td>910</td>\n",
       "      <td>0.013</td>\n",
       "    </tr>\n",
       "    <tr>\n",
       "      <th>1</th>\n",
       "      <td>All Vehicles LBS Plus - StL All Vehicles Volume</td>\n",
       "      <td>All</td>\n",
       "      <td>4607888.0</td>\n",
       "      <td>A4607888</td>\n",
       "      <td>yes</td>\n",
       "      <td>36</td>\n",
       "      <td>yes</td>\n",
       "      <td>1000672789</td>\n",
       "      <td>East Myrtle Street / 18389242 / 2</td>\n",
       "      <td>Residential</td>\n",
       "      <td>...</td>\n",
       "      <td>yes</td>\n",
       "      <td>52</td>\n",
       "      <td>yes</td>\n",
       "      <td>0: All Days (M-Su)</td>\n",
       "      <td>0: All Day (12am-12am)</td>\n",
       "      <td>1.0</td>\n",
       "      <td>20</td>\n",
       "      <td>7542</td>\n",
       "      <td>910</td>\n",
       "      <td>0.026</td>\n",
       "    </tr>\n",
       "    <tr>\n",
       "      <th>2</th>\n",
       "      <td>All Vehicles LBS Plus - StL All Vehicles Volume</td>\n",
       "      <td>All</td>\n",
       "      <td>4607888.0</td>\n",
       "      <td>A4607888</td>\n",
       "      <td>yes</td>\n",
       "      <td>36</td>\n",
       "      <td>yes</td>\n",
       "      <td>1003373146</td>\n",
       "      <td>South Walnut Street / 18388744 / 1</td>\n",
       "      <td>Residential</td>\n",
       "      <td>...</td>\n",
       "      <td>yes</td>\n",
       "      <td>52</td>\n",
       "      <td>yes</td>\n",
       "      <td>0: All Days (M-Su)</td>\n",
       "      <td>0: All Day (12am-12am)</td>\n",
       "      <td>0.0</td>\n",
       "      <td>20</td>\n",
       "      <td>7542</td>\n",
       "      <td>910</td>\n",
       "      <td>0.016</td>\n",
       "    </tr>\n",
       "    <tr>\n",
       "      <th>3</th>\n",
       "      <td>All Vehicles LBS Plus - StL All Vehicles Volume</td>\n",
       "      <td>All</td>\n",
       "      <td>4607888.0</td>\n",
       "      <td>A4607888</td>\n",
       "      <td>yes</td>\n",
       "      <td>36</td>\n",
       "      <td>yes</td>\n",
       "      <td>1005674765</td>\n",
       "      <td>South Randolph Street / 18392888 / 2</td>\n",
       "      <td>Residential</td>\n",
       "      <td>...</td>\n",
       "      <td>yes</td>\n",
       "      <td>52</td>\n",
       "      <td>yes</td>\n",
       "      <td>0: All Days (M-Su)</td>\n",
       "      <td>0: All Day (12am-12am)</td>\n",
       "      <td>0.0</td>\n",
       "      <td>20</td>\n",
       "      <td>7542</td>\n",
       "      <td>910</td>\n",
       "      <td>0.016</td>\n",
       "    </tr>\n",
       "    <tr>\n",
       "      <th>4</th>\n",
       "      <td>All Vehicles LBS Plus - StL All Vehicles Volume</td>\n",
       "      <td>All</td>\n",
       "      <td>4607888.0</td>\n",
       "      <td>A4607888</td>\n",
       "      <td>yes</td>\n",
       "      <td>36</td>\n",
       "      <td>yes</td>\n",
       "      <td>1005695670</td>\n",
       "      <td>East Myrtle Street / 18389242 / 3</td>\n",
       "      <td>Residential</td>\n",
       "      <td>...</td>\n",
       "      <td>yes</td>\n",
       "      <td>52</td>\n",
       "      <td>yes</td>\n",
       "      <td>0: All Days (M-Su)</td>\n",
       "      <td>0: All Day (12am-12am)</td>\n",
       "      <td>0.0</td>\n",
       "      <td>20</td>\n",
       "      <td>7542</td>\n",
       "      <td>910</td>\n",
       "      <td>0.013</td>\n",
       "    </tr>\n",
       "  </tbody>\n",
       "</table>\n",
       "<p>5 rows × 22 columns</p>\n",
       "</div>"
      ],
      "text/plain": [
       "                                    mode_of_travel vehicle_weight  \\\n",
       "0  All Vehicles LBS Plus - StL All Vehicles Volume            All   \n",
       "1  All Vehicles LBS Plus - StL All Vehicles Volume            All   \n",
       "2  All Vehicles LBS Plus - StL All Vehicles Volume            All   \n",
       "3  All Vehicles LBS Plus - StL All Vehicles Volume            All   \n",
       "4  All Vehicles LBS Plus - StL All Vehicles Volume            All   \n",
       "\n",
       "   origin_zone_id origin_zone_name origin_zone_is_pass_through  \\\n",
       "0       4607888.0         A4607888                         yes   \n",
       "1       4607888.0         A4607888                         yes   \n",
       "2       4607888.0         A4607888                         yes   \n",
       "3       4607888.0         A4607888                         yes   \n",
       "4       4607888.0         A4607888                         yes   \n",
       "\n",
       "   origin_zone_direction_degrees_ origin_zone_is_bi_direction  segment_id  \\\n",
       "0                              36                         yes  1000524819   \n",
       "1                              36                         yes  1000672789   \n",
       "2                              36                         yes  1003373146   \n",
       "3                              36                         yes  1005674765   \n",
       "4                              36                         yes  1005695670   \n",
       "\n",
       "                           segment_name segment_type  ...  \\\n",
       "0         Jackson Street / 18391192 / 1  Residential  ...   \n",
       "1     East Myrtle Street / 18389242 / 2  Residential  ...   \n",
       "2    South Walnut Street / 18388744 / 1  Residential  ...   \n",
       "3  South Randolph Street / 18392888 / 2  Residential  ...   \n",
       "4     East Myrtle Street / 18389242 / 3  Residential  ...   \n",
       "\n",
       "   destination_zone_is_pass_through destination_zone_direction_degrees_  \\\n",
       "0                               yes                                  52   \n",
       "1                               yes                                  52   \n",
       "2                               yes                                  52   \n",
       "3                               yes                                  52   \n",
       "4                               yes                                  52   \n",
       "\n",
       "  destination_zone_is_bi_direction            day_type  \\\n",
       "0                              yes  0: All Days (M-Su)   \n",
       "1                              yes  0: All Days (M-Su)   \n",
       "2                              yes  0: All Days (M-Su)   \n",
       "3                              yes  0: All Days (M-Su)   \n",
       "4                              yes  0: All Days (M-Su)   \n",
       "\n",
       "                 day_part average_daily_o_s_d_traffic_stl_volume_  \\\n",
       "0  0: All Day (12am-12am)                                     0.0   \n",
       "1  0: All Day (12am-12am)                                     1.0   \n",
       "2  0: All Day (12am-12am)                                     0.0   \n",
       "3  0: All Day (12am-12am)                                     0.0   \n",
       "4  0: All Day (12am-12am)                                     0.0   \n",
       "\n",
       "  average_daily_o_d_traffic_stl_volume_  \\\n",
       "0                                    20   \n",
       "1                                    20   \n",
       "2                                    20   \n",
       "3                                    20   \n",
       "4                                    20   \n",
       "\n",
       "   average_daily_origin_zone_traffic_stl_volume_  \\\n",
       "0                                           7542   \n",
       "1                                           7542   \n",
       "2                                           7542   \n",
       "3                                           7542   \n",
       "4                                           7542   \n",
       "\n",
       "   average_daily_destination_zone_traffic_stl_volume_  trip_proportion  \n",
       "0                                                910             0.013  \n",
       "1                                                910             0.026  \n",
       "2                                                910             0.016  \n",
       "3                                                910             0.016  \n",
       "4                                                910             0.013  \n",
       "\n",
       "[5 rows x 22 columns]"
      ]
     },
     "metadata": {},
     "output_type": "display_data"
    },
    {
     "data": {
      "text/plain": [
       "(49872, 22)"
      ]
     },
     "metadata": {},
     "output_type": "display_data"
    },
    {
     "data": {
      "text/plain": [
       "<Axes: >"
      ]
     },
     "metadata": {},
     "output_type": "display_data"
    },
    {
     "data": {
      "text/plain": [
       "<Axes: >"
      ]
     },
     "metadata": {},
     "output_type": "display_data"
    },
    {
     "data": {
      "text/plain": [
       "<Axes: >"
      ]
     },
     "metadata": {},
     "output_type": "display_data"
    },
    {
     "data": {
      "text/plain": [
       "<Axes: >"
      ]
     },
     "metadata": {},
     "output_type": "display_data"
    },
    {
     "data": {
      "image/png": "[encoded data removed]",
      "text/plain": [
       "<Figure size 640x480 with 1 Axes>"
      ]
     },
     "metadata": {},
     "output_type": "display_data"
    },
    {
     "data": {
      "image/png": "[encoded data removed]",
      "text/plain": [
       "<Figure size 640x480 with 1 Axes>"
      ]
     },
     "metadata": {},
     "output_type": "display_data"
    },
    {
     "data": {
      "image/png": "[encoded data removed]",
      "text/plain": [
       "<Figure size 640x480 with 1 Axes>"
      ]
     },
     "metadata": {},
     "output_type": "display_data"
    },
    {
     "data": {
      "image/png": "[encoded data removed]",
      "text/plain": [
       "<Figure size 640x480 with 1 Axes>"
      ]
     },
     "metadata": {},
     "output_type": "display_data"
    }
   ],
   "source": [
    "# view dataframe\n",
    "display(\n",
    "    df.head(),\n",
    "    df.shape\n",
    ")\n",
    "\n",
    "# view geodataframes\n",
    "display(\n",
    "    geo_dest.plot(),\n",
    "    geo_dest_line.plot(),\n",
    "    geo_seg.plot(),\n",
    "    geo_org_line.plot()\n",
    ")"
   ]
  },
  {
   "cell_type": "code",
   "execution_count": 35,
   "id": "a001754c-492b-4b74-9dd2-131b8137672c",
   "metadata": {
    "tags": []
   },
   "outputs": [
    {
     "data": {
      "text/html": [
       "<div>\n",
       "<style scoped>\n",
       "    .dataframe tbody tr th:only-of-type {\n",
       "        vertical-align: middle;\n",
       "    }\n",
       "\n",
       "    .dataframe tbody tr th {\n",
       "        vertical-align: top;\n",
       "    }\n",
       "\n",
       "    .dataframe thead th {\n",
       "        text-align: right;\n",
       "    }\n",
       "</style>\n",
       "<table border=\"1\" class=\"dataframe\">\n",
       "  <thead>\n",
       "    <tr style=\"text-align: right;\">\n",
       "      <th></th>\n",
       "      <th>type_</th>\n",
       "      <th>nunique</th>\n",
       "      <th>nempty</th>\n",
       "    </tr>\n",
       "  </thead>\n",
       "  <tbody>\n",
       "    <tr>\n",
       "      <th>mode_of_travel</th>\n",
       "      <td>object</td>\n",
       "      <td>1</td>\n",
       "      <td>0</td>\n",
       "    </tr>\n",
       "    <tr>\n",
       "      <th>vehicle_weight</th>\n",
       "      <td>object</td>\n",
       "      <td>1</td>\n",
       "      <td>0</td>\n",
       "    </tr>\n",
       "    <tr>\n",
       "      <th>origin_zone_id</th>\n",
       "      <td>float64</td>\n",
       "      <td>6</td>\n",
       "      <td>3762</td>\n",
       "    </tr>\n",
       "    <tr>\n",
       "      <th>origin_zone_name</th>\n",
       "      <td>object</td>\n",
       "      <td>7</td>\n",
       "      <td>0</td>\n",
       "    </tr>\n",
       "    <tr>\n",
       "      <th>origin_zone_is_pass_through</th>\n",
       "      <td>object</td>\n",
       "      <td>1</td>\n",
       "      <td>0</td>\n",
       "    </tr>\n",
       "    <tr>\n",
       "      <th>origin_zone_direction_degrees_</th>\n",
       "      <td>int64</td>\n",
       "      <td>7</td>\n",
       "      <td>0</td>\n",
       "    </tr>\n",
       "    <tr>\n",
       "      <th>origin_zone_is_bi_direction</th>\n",
       "      <td>object</td>\n",
       "      <td>1</td>\n",
       "      <td>0</td>\n",
       "    </tr>\n",
       "    <tr>\n",
       "      <th>segment_id</th>\n",
       "      <td>int64</td>\n",
       "      <td>1015</td>\n",
       "      <td>0</td>\n",
       "    </tr>\n",
       "    <tr>\n",
       "      <th>segment_name</th>\n",
       "      <td>object</td>\n",
       "      <td>1015</td>\n",
       "      <td>0</td>\n",
       "    </tr>\n",
       "    <tr>\n",
       "      <th>segment_type</th>\n",
       "      <td>object</td>\n",
       "      <td>6</td>\n",
       "      <td>0</td>\n",
       "    </tr>\n",
       "    <tr>\n",
       "      <th>destination_zone_id</th>\n",
       "      <td>float64</td>\n",
       "      <td>6</td>\n",
       "      <td>3559</td>\n",
       "    </tr>\n",
       "    <tr>\n",
       "      <th>destination_zone_name</th>\n",
       "      <td>object</td>\n",
       "      <td>7</td>\n",
       "      <td>0</td>\n",
       "    </tr>\n",
       "    <tr>\n",
       "      <th>destination_zone_is_pass_through</th>\n",
       "      <td>object</td>\n",
       "      <td>1</td>\n",
       "      <td>0</td>\n",
       "    </tr>\n",
       "    <tr>\n",
       "      <th>destination_zone_direction_degrees_</th>\n",
       "      <td>int64</td>\n",
       "      <td>7</td>\n",
       "      <td>0</td>\n",
       "    </tr>\n",
       "    <tr>\n",
       "      <th>destination_zone_is_bi_direction</th>\n",
       "      <td>object</td>\n",
       "      <td>1</td>\n",
       "      <td>0</td>\n",
       "    </tr>\n",
       "    <tr>\n",
       "      <th>day_type</th>\n",
       "      <td>object</td>\n",
       "      <td>3</td>\n",
       "      <td>0</td>\n",
       "    </tr>\n",
       "    <tr>\n",
       "      <th>day_part</th>\n",
       "      <td>object</td>\n",
       "      <td>6</td>\n",
       "      <td>0</td>\n",
       "    </tr>\n",
       "    <tr>\n",
       "      <th>average_daily_o_s_d_traffic_stl_volume_</th>\n",
       "      <td>float64</td>\n",
       "      <td>127</td>\n",
       "      <td>119</td>\n",
       "    </tr>\n",
       "    <tr>\n",
       "      <th>average_daily_o_d_traffic_stl_volume_</th>\n",
       "      <td>int64</td>\n",
       "      <td>99</td>\n",
       "      <td>0</td>\n",
       "    </tr>\n",
       "    <tr>\n",
       "      <th>average_daily_origin_zone_traffic_stl_volume_</th>\n",
       "      <td>int64</td>\n",
       "      <td>116</td>\n",
       "      <td>0</td>\n",
       "    </tr>\n",
       "    <tr>\n",
       "      <th>average_daily_destination_zone_traffic_stl_volume_</th>\n",
       "      <td>int64</td>\n",
       "      <td>116</td>\n",
       "      <td>0</td>\n",
       "    </tr>\n",
       "    <tr>\n",
       "      <th>trip_proportion</th>\n",
       "      <td>float64</td>\n",
       "      <td>436</td>\n",
       "      <td>0</td>\n",
       "    </tr>\n",
       "  </tbody>\n",
       "</table>\n",
       "</div>"
      ],
      "text/plain": [
       "                                                      type_  nunique  nempty\n",
       "mode_of_travel                                       object        1       0\n",
       "vehicle_weight                                       object        1       0\n",
       "origin_zone_id                                      float64        6    3762\n",
       "origin_zone_name                                     object        7       0\n",
       "origin_zone_is_pass_through                          object        1       0\n",
       "origin_zone_direction_degrees_                        int64        7       0\n",
       "origin_zone_is_bi_direction                          object        1       0\n",
       "segment_id                                            int64     1015       0\n",
       "segment_name                                         object     1015       0\n",
       "segment_type                                         object        6       0\n",
       "destination_zone_id                                 float64        6    3559\n",
       "destination_zone_name                                object        7       0\n",
       "destination_zone_is_pass_through                     object        1       0\n",
       "destination_zone_direction_degrees_                   int64        7       0\n",
       "destination_zone_is_bi_direction                     object        1       0\n",
       "day_type                                             object        3       0\n",
       "day_part                                             object        6       0\n",
       "average_daily_o_s_d_traffic_stl_volume_             float64      127     119\n",
       "average_daily_o_d_traffic_stl_volume_                 int64       99       0\n",
       "average_daily_origin_zone_traffic_stl_volume_         int64      116       0\n",
       "average_daily_destination_zone_traffic_stl_volume_    int64      116       0\n",
       "trip_proportion                                     float64      436       0"
      ]
     },
     "execution_count": 35,
     "metadata": {},
     "output_type": "execute_result"
    }
   ],
   "source": [
    "# get overview of data\n",
    "summary_df = pandas.DataFrame(\n",
    "    [\n",
    "        [df[column].dtypes, df[column].nunique(), df[column].isna().sum()]\n",
    "        for column in df.columns\n",
    "    ],\n",
    "    index=df.columns,\n",
    "    columns=['type_', 'nunique', 'nempty']\n",
    ")\n",
    "summary_df"
   ]
  },
  {
   "cell_type": "markdown",
   "id": "92ffab74-4670-4e73-8c41-cf197f41cbea",
   "metadata": {},
   "source": [
    "### Merge Data"
   ]
  },
  {
   "cell_type": "code",
   "execution_count": 113,
   "id": "3f27d724-004a-40d1-b5b1-d5ccd62ac915",
   "metadata": {
    "tags": []
   },
   "outputs": [],
   "source": [
    "merged_pnts = geo_dest.merge(df, left_on='name',right_on='origin_zone_name').set_index('name')"
   ]
  },
  {
   "cell_type": "code",
   "execution_count": 122,
   "id": "bc14d1e0-2c5e-483c-aa91-ca52e94ac111",
   "metadata": {
    "tags": []
   },
   "outputs": [
    {
     "data": {
      "text/html": [
       "<div>\n",
       "<style scoped>\n",
       "    .dataframe tbody tr th:only-of-type {\n",
       "        vertical-align: middle;\n",
       "    }\n",
       "\n",
       "    .dataframe tbody tr th {\n",
       "        vertical-align: top;\n",
       "    }\n",
       "\n",
       "    .dataframe thead th {\n",
       "        text-align: right;\n",
       "    }\n",
       "</style>\n",
       "<table border=\"1\" class=\"dataframe\">\n",
       "  <thead>\n",
       "    <tr style=\"text-align: right;\">\n",
       "      <th></th>\n",
       "      <th>segment_id</th>\n",
       "      <th>name</th>\n",
       "      <th>segment_ty</th>\n",
       "      <th>geometry</th>\n",
       "    </tr>\n",
       "  </thead>\n",
       "  <tbody>\n",
       "    <tr>\n",
       "      <th>0</th>\n",
       "      <td>1.000198e+09</td>\n",
       "      <td>Cantrell Road / 525069457 / 1</td>\n",
       "      <td>primary</td>\n",
       "      <td>LINESTRING (-94.36916 38.66050, -94.36939 38.6...</td>\n",
       "    </tr>\n",
       "    <tr>\n",
       "      <th>1</th>\n",
       "      <td>1.000230e+09</td>\n",
       "      <td>residential / 18539727 / 1</td>\n",
       "      <td>residential</td>\n",
       "      <td>LINESTRING (-94.06765 38.74710, -94.06614 38.7...</td>\n",
       "    </tr>\n",
       "    <tr>\n",
       "      <th>2</th>\n",
       "      <td>1.000401e+09</td>\n",
       "      <td>Sugarland Drive / 67137927 / 5</td>\n",
       "      <td>residential</td>\n",
       "      <td>LINESTRING (-94.26944 38.81442, -94.27011 38.8...</td>\n",
       "    </tr>\n",
       "    <tr>\n",
       "      <th>3</th>\n",
       "      <td>1.000514e+09</td>\n",
       "      <td>Cantrell Road / 470108962 / 3</td>\n",
       "      <td>residential</td>\n",
       "      <td>LINESTRING (-94.36969 38.66030, -94.36962 38.6...</td>\n",
       "    </tr>\n",
       "    <tr>\n",
       "      <th>4</th>\n",
       "      <td>1.000525e+09</td>\n",
       "      <td>Jackson Street / 18391192 / 1</td>\n",
       "      <td>residential</td>\n",
       "      <td>LINESTRING (-94.26654 38.78158, -94.26547 38.7...</td>\n",
       "    </tr>\n",
       "    <tr>\n",
       "      <th>...</th>\n",
       "      <td>...</td>\n",
       "      <td>...</td>\n",
       "      <td>...</td>\n",
       "      <td>...</td>\n",
       "    </tr>\n",
       "    <tr>\n",
       "      <th>1010</th>\n",
       "      <td>1.109605e+09</td>\n",
       "      <td>State Highway 58 / 525291228 / 6</td>\n",
       "      <td>secondary</td>\n",
       "      <td>LINESTRING (-94.23459 38.77322, -94.23366 38.7...</td>\n",
       "    </tr>\n",
       "    <tr>\n",
       "      <th>1011</th>\n",
       "      <td>1.109607e+09</td>\n",
       "      <td>SW State Highway West / 18554217 / 3</td>\n",
       "      <td>residential</td>\n",
       "      <td>LINESTRING (-94.06200 38.76100, -94.06190 38.7...</td>\n",
       "    </tr>\n",
       "    <tr>\n",
       "      <th>1012</th>\n",
       "      <td>1.109626e+09</td>\n",
       "      <td>East 199th Street / 18393734 / 1</td>\n",
       "      <td>residential</td>\n",
       "      <td>LINESTRING (-94.31980 38.75621, -94.31974 38.7...</td>\n",
       "    </tr>\n",
       "    <tr>\n",
       "      <th>1013</th>\n",
       "      <td>1.109635e+09</td>\n",
       "      <td>Horridge Road / 18524885 / 3</td>\n",
       "      <td>residential</td>\n",
       "      <td>LINESTRING (-94.43570 38.85418, -94.43577 38.8...</td>\n",
       "    </tr>\n",
       "    <tr>\n",
       "      <th>1014</th>\n",
       "      <td>1.109668e+09</td>\n",
       "      <td>Maple Lane / 18390008 / 1</td>\n",
       "      <td>residential</td>\n",
       "      <td>LINESTRING (-94.26163 38.79723, -94.26131 38.7...</td>\n",
       "    </tr>\n",
       "  </tbody>\n",
       "</table>\n",
       "<p>1015 rows × 4 columns</p>\n",
       "</div>"
      ],
      "text/plain": [
       "        segment_id                                  name   segment_ty  \\\n",
       "0     1.000198e+09         Cantrell Road / 525069457 / 1      primary   \n",
       "1     1.000230e+09            residential / 18539727 / 1  residential   \n",
       "2     1.000401e+09        Sugarland Drive / 67137927 / 5  residential   \n",
       "3     1.000514e+09         Cantrell Road / 470108962 / 3  residential   \n",
       "4     1.000525e+09         Jackson Street / 18391192 / 1  residential   \n",
       "...            ...                                   ...          ...   \n",
       "1010  1.109605e+09      State Highway 58 / 525291228 / 6    secondary   \n",
       "1011  1.109607e+09  SW State Highway West / 18554217 / 3  residential   \n",
       "1012  1.109626e+09      East 199th Street / 18393734 / 1  residential   \n",
       "1013  1.109635e+09          Horridge Road / 18524885 / 3  residential   \n",
       "1014  1.109668e+09             Maple Lane / 18390008 / 1  residential   \n",
       "\n",
       "                                               geometry  \n",
       "0     LINESTRING (-94.36916 38.66050, -94.36939 38.6...  \n",
       "1     LINESTRING (-94.06765 38.74710, -94.06614 38.7...  \n",
       "2     LINESTRING (-94.26944 38.81442, -94.27011 38.8...  \n",
       "3     LINESTRING (-94.36969 38.66030, -94.36962 38.6...  \n",
       "4     LINESTRING (-94.26654 38.78158, -94.26547 38.7...  \n",
       "...                                                 ...  \n",
       "1010  LINESTRING (-94.23459 38.77322, -94.23366 38.7...  \n",
       "1011  LINESTRING (-94.06200 38.76100, -94.06190 38.7...  \n",
       "1012  LINESTRING (-94.31980 38.75621, -94.31974 38.7...  \n",
       "1013  LINESTRING (-94.43570 38.85418, -94.43577 38.8...  \n",
       "1014  LINESTRING (-94.26163 38.79723, -94.26131 38.7...  \n",
       "\n",
       "[1015 rows x 4 columns]"
      ]
     },
     "execution_count": 122,
     "metadata": {},
     "output_type": "execute_result"
    }
   ],
   "source": [
    "geo_seg"
   ]
  },
  {
   "cell_type": "markdown",
   "id": "98c19d59-6a2b-4867-adbe-a546b040ad34",
   "metadata": {
    "tags": []
   },
   "source": [
    "### Look by direciton, traffic volumes"
   ]
  },
  {
   "cell_type": "code",
   "execution_count": 72,
   "id": "c4639ddf-383a-497a-bda4-51a9917a699f",
   "metadata": {
    "tags": []
   },
   "outputs": [],
   "source": [
    "quant_variables = ['average_daily_o_s_d_traffic_stl_volume_','average_daily_o_d_traffic_stl_volume_','average_daily_origin_zone_traffic_stl_volume_','average_daily_destination_zone_traffic_stl_volume_','trip_proportion']"
   ]
  },
  {
   "cell_type": "markdown",
   "id": "9857acb0-234f-40a0-8063-42148e247294",
   "metadata": {},
   "source": [
    "### Compare to information from original points"
   ]
  },
  {
   "cell_type": "code",
   "execution_count": null,
   "id": "baa14351-b03e-4586-bde0-65b66e7ece74",
   "metadata": {},
   "outputs": [],
   "source": [
    "# density distribution by zone"
   ]
  },
  {
   "cell_type": "code",
   "execution_count": 78,
   "id": "1e8dd9bc-c0e2-413a-9f66-2128ecb108ea",
   "metadata": {
    "tags": []
   },
   "outputs": [
    {
     "data": {
      "text/plain": [
       "array([4607888., 4933881., 5105323., 5190933., 5190939., 5190956.])"
      ]
     },
     "execution_count": 78,
     "metadata": {},
     "output_type": "execute_result"
    }
   ],
   "source": [
    "merged_pnts.origin_zone_id.unique()"
   ]
  },
  {
   "cell_type": "code",
   "execution_count": 80,
   "id": "6e058eb7-a53f-4110-a04b-ca265f94ec79",
   "metadata": {
    "tags": []
   },
   "outputs": [],
   "source": [
    "od_day_part = merged_pnts.groupby(['origin_zone_id','destination_zone_id','day_part'])[quant_variables].mean()"
   ]
  },
  {
   "cell_type": "code",
   "execution_count": 83,
   "id": "9af3b2a2-95a1-4327-ab8e-0a83ceef2128",
   "metadata": {
    "tags": []
   },
   "outputs": [],
   "source": [
    "od = merged_pnts.groupby(['origin_zone_id','destination_zone_id'])[quant_variables].mean()"
   ]
  },
  {
   "cell_type": "code",
   "execution_count": null,
   "id": "a91bbc61-2554-4ade-8f43-ca311616ca26",
   "metadata": {},
   "outputs": [],
   "source": [
    "merged_pnts[(merged_pnts[state1] == 1) & (merged_pnts[state2] == 1)]"
   ]
  },
  {
   "cell_type": "markdown",
   "id": "62492de4-0055-4dd2-99f8-d76f95e6c629",
   "metadata": {},
   "source": [
    "### Look at some spatial models"
   ]
  },
  {
   "cell_type": "code",
   "execution_count": 119,
   "id": "a2af9a88-c584-47ff-b306-aa0c854a1362",
   "metadata": {
    "tags": []
   },
   "outputs": [
    {
     "ename": "ValueError",
     "evalue": "y attribute access only provided for Point geometries",
     "output_type": "error",
     "traceback": [
      "\u001b[1;31m---------------------------------------------------------------------------\u001b[0m",
      "\u001b[1;31mValueError\u001b[0m                                Traceback (most recent call last)",
      "Cell \u001b[1;32mIn[119], line 1\u001b[0m\n\u001b[1;32m----> 1\u001b[0m merged_pnts[\u001b[38;5;124m'\u001b[39m\u001b[38;5;124mlatitude\u001b[39m\u001b[38;5;124m'\u001b[39m] \u001b[38;5;241m=\u001b[39m merged_pnts\u001b[38;5;241m.\u001b[39mgeometry\u001b[38;5;241m.\u001b[39my\n\u001b[0;32m      2\u001b[0m merged_pnts[\u001b[38;5;124m'\u001b[39m\u001b[38;5;124mlongitude\u001b[39m\u001b[38;5;124m'\u001b[39m] \u001b[38;5;241m=\u001b[39m merged_pnts\u001b[38;5;241m.\u001b[39mgeometry\u001b[38;5;241m.\u001b[39mx\n\u001b[0;32m      4\u001b[0m sns\u001b[38;5;241m.\u001b[39mkdeplot(merged_pnts[\u001b[38;5;124m'\u001b[39m\u001b[38;5;124mlongitude\u001b[39m\u001b[38;5;124m'\u001b[39m], merged_pnts[\u001b[38;5;124m'\u001b[39m\u001b[38;5;124mlatitude\u001b[39m\u001b[38;5;124m'\u001b[39m], shade\u001b[38;5;241m=\u001b[39m\u001b[38;5;28;01mTrue\u001b[39;00m, cmap\u001b[38;5;241m=\u001b[39m\u001b[38;5;124m'\u001b[39m\u001b[38;5;124mviridis\u001b[39m\u001b[38;5;124m'\u001b[39m)\n",
      "File \u001b[1;32m~\\AppData\\Local\\anaconda3\\Lib\\site-packages\\geopandas\\geoseries.py:295\u001b[0m, in \u001b[0;36mGeoSeries.y\u001b[1;34m(self)\u001b[0m\n\u001b[0;32m    269\u001b[0m \u001b[38;5;129m@property\u001b[39m\n\u001b[0;32m    270\u001b[0m \u001b[38;5;28;01mdef\u001b[39;00m \u001b[38;5;21my\u001b[39m(\u001b[38;5;28mself\u001b[39m):\n\u001b[0;32m    271\u001b[0m \u001b[38;5;250m    \u001b[39m\u001b[38;5;124;03m\"\"\"Return the y location of point geometries in a GeoSeries\u001b[39;00m\n\u001b[0;32m    272\u001b[0m \n\u001b[0;32m    273\u001b[0m \u001b[38;5;124;03m    Returns\u001b[39;00m\n\u001b[1;32m   (...)\u001b[0m\n\u001b[0;32m    293\u001b[0m \n\u001b[0;32m    294\u001b[0m \u001b[38;5;124;03m    \"\"\"\u001b[39;00m\n\u001b[1;32m--> 295\u001b[0m     \u001b[38;5;28;01mreturn\u001b[39;00m _delegate_property(\u001b[38;5;124m\"\u001b[39m\u001b[38;5;124my\u001b[39m\u001b[38;5;124m\"\u001b[39m, \u001b[38;5;28mself\u001b[39m)\n",
      "File \u001b[1;32m~\\AppData\\Local\\anaconda3\\Lib\\site-packages\\geopandas\\base.py:66\u001b[0m, in \u001b[0;36m_delegate_property\u001b[1;34m(op, this)\u001b[0m\n\u001b[0;32m     63\u001b[0m \u001b[38;5;28;01mdef\u001b[39;00m \u001b[38;5;21m_delegate_property\u001b[39m(op, this):\n\u001b[0;32m     64\u001b[0m     \u001b[38;5;66;03m# type: (str, GeoSeries) -> GeoSeries/Series\u001b[39;00m\n\u001b[0;32m     65\u001b[0m     a_this \u001b[38;5;241m=\u001b[39m GeometryArray(this\u001b[38;5;241m.\u001b[39mgeometry\u001b[38;5;241m.\u001b[39mvalues)\n\u001b[1;32m---> 66\u001b[0m     data \u001b[38;5;241m=\u001b[39m \u001b[38;5;28mgetattr\u001b[39m(a_this, op)\n\u001b[0;32m     67\u001b[0m     \u001b[38;5;28;01mif\u001b[39;00m \u001b[38;5;28misinstance\u001b[39m(data, GeometryArray):\n\u001b[0;32m     68\u001b[0m         \u001b[38;5;28;01mfrom\u001b[39;00m \u001b[38;5;21;01m.\u001b[39;00m\u001b[38;5;21;01mgeoseries\u001b[39;00m \u001b[38;5;28;01mimport\u001b[39;00m GeoSeries\n",
      "File \u001b[1;32m~\\AppData\\Local\\anaconda3\\Lib\\site-packages\\geopandas\\array.py:937\u001b[0m, in \u001b[0;36mGeometryArray.y\u001b[1;34m(self)\u001b[0m\n\u001b[0;32m    935\u001b[0m \u001b[38;5;28;01melse\u001b[39;00m:\n\u001b[0;32m    936\u001b[0m     message \u001b[38;5;241m=\u001b[39m \u001b[38;5;124m\"\u001b[39m\u001b[38;5;124my attribute access only provided for Point geometries\u001b[39m\u001b[38;5;124m\"\u001b[39m\n\u001b[1;32m--> 937\u001b[0m     \u001b[38;5;28;01mraise\u001b[39;00m \u001b[38;5;167;01mValueError\u001b[39;00m(message)\n",
      "\u001b[1;31mValueError\u001b[0m: y attribute access only provided for Point geometries"
     ]
    }
   ],
   "source": [
    "merged_pnts['latitude'] = merged_pnts.geometry.y\n",
    "merged_pnts['longitude'] = merged_pnts.geometry.x\n",
    "\n",
    "sns.kdeplot(merged_pnts['longitude'], merged_pnts['latitude'], shade=True, cmap='viridis');"
   ]
  },
  {
   "cell_type": "code",
   "execution_count": null,
   "id": "5c482110-bbd6-4690-bd2f-9e7a44760dc0",
   "metadata": {},
   "outputs": [],
   "source": [
    "to_file(merged_pnts)"
   ]
  },
  {
   "cell_type": "code",
   "execution_count": null,
   "id": "cd08750c-d54b-4dfc-bc51-0a18f818d118",
   "metadata": {},
   "outputs": [],
   "source": []
  },
  {
   "cell_type": "code",
   "execution_count": null,
   "id": "43b14caf-6e5c-4ac1-9b7c-f96d840d030b",
   "metadata": {},
   "outputs": [],
   "source": []
  },
  {
   "cell_type": "code",
   "execution_count": null,
   "id": "6229acca-63b0-4a74-aaea-1c5fb2ac86ce",
   "metadata": {},
   "outputs": [],
   "source": []
  },
  {
   "cell_type": "code",
   "execution_count": null,
   "id": "29a1a3be-5402-4ef8-8615-3bcbfd391ed2",
   "metadata": {},
   "outputs": [],
   "source": []
  },
  {
   "cell_type": "code",
   "execution_count": null,
   "id": "eaaef6b2-0466-4d58-ade5-d6e493ca4b94",
   "metadata": {},
   "outputs": [],
   "source": []
  },
  {
   "cell_type": "code",
   "execution_count": null,
   "id": "6c42e959-6b4c-4678-95b7-602a126511ba",
   "metadata": {},
   "outputs": [],
   "source": []
  },
  {
   "cell_type": "code",
   "execution_count": null,
   "id": "6fb50abb-ff39-4386-86b9-4dcf4b9619d7",
   "metadata": {},
   "outputs": [],
   "source": []
  },
  {
   "cell_type": "code",
   "execution_count": null,
   "id": "d80febc3-03dd-40dc-a3b8-2f9d9d117c6a",
   "metadata": {},
   "outputs": [
    {
     "data": {
      "text/html": [
       "<div>\n",
       "<style scoped>\n",
       "    .dataframe tbody tr th:only-of-type {\n",
       "        vertical-align: middle;\n",
       "    }\n",
       "\n",
       "    .dataframe tbody tr th {\n",
       "        vertical-align: top;\n",
       "    }\n",
       "\n",
       "    .dataframe thead th {\n",
       "        text-align: right;\n",
       "    }\n",
       "</style>\n",
       "<table border=\"1\" class=\"dataframe\">\n",
       "  <thead>\n",
       "    <tr style=\"text-align: right;\">\n",
       "      <th></th>\n",
       "      <th>id</th>\n",
       "      <th>name</th>\n",
       "      <th>direction</th>\n",
       "      <th>is_pass</th>\n",
       "      <th>is_bidi</th>\n",
       "      <th>geometry</th>\n",
       "    </tr>\n",
       "  </thead>\n",
       "  <tbody>\n",
       "    <tr>\n",
       "      <th>0</th>\n",
       "      <td>4607888</td>\n",
       "      <td>A4607888</td>\n",
       "      <td>36.000</td>\n",
       "      <td>1</td>\n",
       "      <td>1</td>\n",
       "      <td>POLYGON ((-94.26448 38.77861, -94.26480 38.778...</td>\n",
       "    </tr>\n",
       "    <tr>\n",
       "      <th>1</th>\n",
       "      <td>4933881</td>\n",
       "      <td>A4933881</td>\n",
       "      <td>52.000</td>\n",
       "      <td>1</td>\n",
       "      <td>1</td>\n",
       "      <td>POLYGON ((-94.27470 38.78556, -94.27504 38.785...</td>\n",
       "    </tr>\n",
       "    <tr>\n",
       "      <th>2</th>\n",
       "      <td>5105323</td>\n",
       "      <td>A5105323</td>\n",
       "      <td>311.000</td>\n",
       "      <td>1</td>\n",
       "      <td>1</td>\n",
       "      <td>POLYGON ((-94.27146 38.78222, -94.27182 38.782...</td>\n",
       "    </tr>\n",
       "    <tr>\n",
       "      <th>3</th>\n",
       "      <td>5190933</td>\n",
       "      <td>A5190933</td>\n",
       "      <td>97.000</td>\n",
       "      <td>1</td>\n",
       "      <td>1</td>\n",
       "      <td>POLYGON ((-94.28355 38.79767, -94.28388 38.797...</td>\n",
       "    </tr>\n",
       "    <tr>\n",
       "      <th>4</th>\n",
       "      <td>5190939</td>\n",
       "      <td>A5190939</td>\n",
       "      <td>360.000</td>\n",
       "      <td>1</td>\n",
       "      <td>1</td>\n",
       "      <td>POLYGON ((-94.25656 38.77715, -94.25689 38.776...</td>\n",
       "    </tr>\n",
       "    <tr>\n",
       "      <th>5</th>\n",
       "      <td>5190956</td>\n",
       "      <td>A5190956</td>\n",
       "      <td>124.000</td>\n",
       "      <td>1</td>\n",
       "      <td>1</td>\n",
       "      <td>POLYGON ((-94.26863 38.78045, -94.26896 38.779...</td>\n",
       "    </tr>\n",
       "    <tr>\n",
       "      <th>6</th>\n",
       "      <td>N/A</td>\n",
       "      <td>South First Street / 719359682 / 1</td>\n",
       "      <td>138.934</td>\n",
       "      <td>1</td>\n",
       "      <td>1</td>\n",
       "      <td>POLYGON ((-94.27075 38.78162, -94.27074 38.781...</td>\n",
       "    </tr>\n",
       "  </tbody>\n",
       "</table>\n",
       "</div>"
      ],
      "text/plain": [
       "        id                                name  direction  is_pass  is_bidi  \\\n",
       "0  4607888                            A4607888     36.000        1        1   \n",
       "1  4933881                            A4933881     52.000        1        1   \n",
       "2  5105323                            A5105323    311.000        1        1   \n",
       "3  5190933                            A5190933     97.000        1        1   \n",
       "4  5190939                            A5190939    360.000        1        1   \n",
       "5  5190956                            A5190956    124.000        1        1   \n",
       "6      N/A  South First Street / 719359682 / 1    138.934        1        1   \n",
       "\n",
       "                                            geometry  \n",
       "0  POLYGON ((-94.26448 38.77861, -94.26480 38.778...  \n",
       "1  POLYGON ((-94.27470 38.78556, -94.27504 38.785...  \n",
       "2  POLYGON ((-94.27146 38.78222, -94.27182 38.782...  \n",
       "3  POLYGON ((-94.28355 38.79767, -94.28388 38.797...  \n",
       "4  POLYGON ((-94.25656 38.77715, -94.25689 38.776...  \n",
       "5  POLYGON ((-94.26863 38.78045, -94.26896 38.779...  \n",
       "6  POLYGON ((-94.27075 38.78162, -94.27074 38.781...  "
      ]
     },
     "execution_count": 33,
     "metadata": {},
     "output_type": "execute_result"
    }
   ],
   "source": [
    "# Set choropleth basemap\n",
    "basemap = mo_places.plot(column = \"ALAND\", cmap = \"YlGnBu\")\n",
    "\n",
    "# Plot transparent proportional symbols on top of basemap\n",
    "geo_state_pt.plot(ax = basemap, markersize = (numpy.sqrt(merged[\"total_revenue\"])), color = \"lightgray\", edgecolor = \"darkgray\", alpha = 0.7,legend = True, legend_kwds={\"fmt\": \"{:.0f}\"},scheme='natural_breaks', k=4)\n",
    "\n",
    "plt.title('Fig E-1: Revenue (Points) by Average Years as Customer and State')\n",
    "plt.axis('off')\n",
    "plt.show();"
   ]
  }
 ],
 "metadata": {
  "kernelspec": {
   "display_name": "Python 3 (ipykernel)",
   "language": "python",
   "name": "python3"
  },
  "language_info": {
   "codemirror_mode": {
    "name": "ipython",
    "version": 3
   },
   "file_extension": ".py",
   "mimetype": "text/x-python",
   "name": "python",
   "nbconvert_exporter": "python",
   "pygments_lexer": "ipython3",
   "version": "3.11.4"
  }
 },
 "nbformat": 4,
 "nbformat_minor": 5
}
