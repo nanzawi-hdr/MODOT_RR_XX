{
 "cells": [
  {
   "cell_type": "code",
   "execution_count": 1,
   "id": "34d9a8b8-51cc-4f90-a238-e00498efa443",
   "metadata": {
    "tags": []
   },
   "outputs": [],
   "source": [
    "import urllib\n",
    "import pandas\n",
    "import json\n",
    "import requests\n",
    "import numpy\n",
    "import os\n",
    "import sys\n",
    "import geopandas\n",
    "import janitor\n",
    "from path import Path\n",
    "import osmnx as ox\n",
    "import matplotlib.pyplot as plt"
   ]
  },
  {
   "cell_type": "code",
   "execution_count": 17,
   "id": "8668574c-2395-452e-92de-757b49cd771e",
   "metadata": {
    "tags": []
   },
   "outputs": [],
   "source": [
    "import folium"
   ]
  },
  {
   "cell_type": "code",
   "execution_count": 188,
   "id": "f9012b4d-4ea2-40b5-9bbe-ca7347c6520e",
   "metadata": {
    "tags": []
   },
   "outputs": [],
   "source": [
    "# path configuration\n",
    "working_directory = Path.getcwd()\n",
    "\n",
    "inputs_path = working_directory / 'inputs'\n",
    "outputs_path = working_directory / 'outputs'"
   ]
  },
  {
   "cell_type": "code",
   "execution_count": 189,
   "id": "8001ba0b-9786-4b68-bd87-c7ba709d5eac",
   "metadata": {},
   "outputs": [],
   "source": [
    "# set up api parameters\n",
    "base_url = \"https://safetydata.fra.dot.gov/MasterWebService/PublicApi/frads/v1/odata/gcis\"\n",
    "dataset = 'Crossings'\n",
    "state_fips = \"StateCD eq '29'\"\n",
    "api_key = '7d9f06fbf611c46d2d767ebd72742923'"
   ]
  },
  {
   "cell_type": "code",
   "execution_count": 212,
   "id": "401d019b-3a49-4fd2-bb6f-050c6360846e",
   "metadata": {
    "tags": []
   },
   "outputs": [],
   "source": [
    "# Define the number of items to retrieve per API call\n",
    "items_per_call = 10\n",
    "\n",
    "# Initialize a variable to keep track of the current skip value\n",
    "current_skip = 0\n",
    "\n",
    "total_items_to_retrieve = 100\n",
    "\n",
    "# Create an empty list to store the data\n",
    "data_list = []"
   ]
  },
  {
   "cell_type": "code",
   "execution_count": 191,
   "id": "2b2d13db-a68e-4e10-8a24-262b5cd8c027",
   "metadata": {
    "tags": []
   },
   "outputs": [],
   "source": [
    "# Create a loop to make API calls until you reach the total_items_to_retrieve\n",
    "while current_skip < total_items_to_retrieve:\n",
    "    # Build the API endpoint with the current skip value\n",
    "    endpoint = f\"{base_url}/{dataset}?&token={api_key}&$format=json&$filter={state_fips}&$skip={current_skip}\"\n",
    "\n",
    "    # Make the API call here\n",
    "    response = requests.get(endpoint)\n",
    "    \n",
    "    # Check if the API call was successful\n",
    "    if response.status_code == 200:\n",
    "        # Convert the API response data to a DataFrame\n",
    "        api_data = response.json().get('value', [])  # Extract 'value' key\n",
    "        \n",
    "        # Extend the data_list with the extracted data\n",
    "        data_list.extend(api_data)\n",
    "        \n",
    "        # Increment the skip value for the next iteration\n",
    "        current_skip += items_per_call\n",
    "    else:\n",
    "        print(f\"API request failed with status code {response.status_code}\")\n",
    "        break  # Exit the loop if the API request fails\n",
    "\n",
    "# Create a DataFrame from the data_list\n",
    "df = pd.DataFrame(data_list)\n"
   ]
  },
  {
   "cell_type": "code",
   "execution_count": 214,
   "id": "00c6aff5-696f-4c0c-9985-e2bc92f81d87",
   "metadata": {
    "tags": []
   },
   "outputs": [],
   "source": [
    "# by agency ID\n",
    "\n",
    "agency = 'ReportingAgencyId eq 891'\n",
    "\n",
    "# Create a loop to make API calls until you reach the total_items_to_retrieve\n",
    "while current_skip < total_items_to_retrieve:\n",
    "    # Build the API endpoint with the current skip value\n",
    "    endpoint = f\"{base_url}/{dataset}?&token={api_key}&$format=json&$filter={agency}&$skip={current_skip}\"\n",
    "    # Make the API call here\n",
    "    response = requests.get(endpoint)\n",
    "    \n",
    "    # Check if the API call was successful\n",
    "    if response.status_code == 200:\n",
    "        # Convert the API response data to a DataFrame\n",
    "        api_data = response.json().get('value', [])  # Extract 'value' key\n",
    "        \n",
    "        # Extend the data_list with the extracted data\n",
    "        data_list.extend(api_data)\n",
    "        \n",
    "        # Increment the skip value for the next iteration\n",
    "        current_skip += items_per_call\n",
    "    else:\n",
    "        print(f\"API request failed with status code {response.status_code}\")\n",
    "        break  # Exit the loop if the API request fails\n",
    "\n",
    "# Create a DataFrame from the data_list\n",
    "df = pd.DataFrame(data_list)"
   ]
  },
  {
   "cell_type": "code",
   "execution_count": 232,
   "id": "a5b3e127-01bf-4f1e-a99b-1ef59eb4bf73",
   "metadata": {
    "tags": []
   },
   "outputs": [
    {
     "data": {
      "text/plain": [
       "array([1], dtype=int64)"
      ]
     },
     "execution_count": 232,
     "metadata": {},
     "output_type": "execute_result"
    }
   ],
   "source": [
    "df.ReportingAgencyTypeId.unique()"
   ]
  },
  {
   "cell_type": "code",
   "execution_count": 230,
   "id": "8fda8043-5bfe-42da-93b5-7516a6a98b83",
   "metadata": {
    "tags": []
   },
   "outputs": [
    {
     "data": {
      "text/plain": [
       "Index(['ReportBaseId', 'ReportingAgencyId', 'ReportingAgencyTypeId',\n",
       "       'ReasonId', 'CrossingId', 'CrossingIdSuffix'],\n",
       "      dtype='object')"
      ]
     },
     "execution_count": 230,
     "metadata": {},
     "output_type": "execute_result"
    }
   ],
   "source": [
    "df.columns[df.columns.str.contains('Id')]"
   ]
  },
  {
   "cell_type": "code",
   "execution_count": 219,
   "id": "e248d0e0-be9e-4cd3-a437-ce95ce52a3e4",
   "metadata": {
    "tags": []
   },
   "outputs": [
    {
     "name": "stderr",
     "output_type": "stream",
     "text": [
      "C:\\Users\\nanzawi\\AppData\\Local\\anaconda3\\Lib\\site-packages\\pyproj\\crs\\crs.py:141: FutureWarning: '+init=<authority>:<code>' syntax is deprecated. '<authority>:<code>' is the preferred initialization method. When making the change, be mindful of axis order changes: https://pyproj4.github.io/pyproj/stable/gotchas.html#axis-order-changes-in-proj-6\n",
      "  in_crs_string = _prepare_from_proj_string(in_crs_string)\n"
     ]
    }
   ],
   "source": [
    "#make points spatial\n",
    "crs= {'init': 'epsg:6511'}\n",
    "\n",
    "points = geopandas.GeoDataFrame(\n",
    "    df, crs=crs, geometry=geopandas.points_from_xy(df.Longitude, df.Latitude)\n",
    ")"
   ]
  },
  {
   "cell_type": "code",
   "execution_count": 220,
   "id": "f1fb6088-4033-4fe7-9fe5-efac36530947",
   "metadata": {
    "tags": []
   },
   "outputs": [],
   "source": [
    "# Latitude and Longitude coordinates for Missouri\n",
    "missouri_coordinates = [38.573936, -92.603760]\n",
    "\n",
    "# Create a Folium map centered around Missouri\n",
    "m = folium.Map(location=missouri_coordinates, zoom_start=7)"
   ]
  },
  {
   "cell_type": "code",
   "execution_count": 221,
   "id": "31b3d423-5e32-4498-a87e-e043760ae80e",
   "metadata": {
    "tags": []
   },
   "outputs": [],
   "source": [
    "points[['Latitude','Longitude']] = points[['Latitude','Longitude']].astype(float)"
   ]
  },
  {
   "cell_type": "code",
   "execution_count": 222,
   "id": "0fcfcb14-1e40-4533-a830-82b8edc59322",
   "metadata": {
    "tags": []
   },
   "outputs": [
    {
     "data": {
      "text/html": [
       "<div style=\"width:100%;\"><div style=\"position:relative;width:100%;height:0;padding-bottom:60%;\"><span style=\"color:#565656\">Make this Notebook Trusted to load map: File -> Trust Notebook</span><iframe srcdoc=\"&lt;!DOCTYPE html&gt;\n",
       "&lt;html&gt;\n",
       "&lt;head&gt;\n",
       "    \n",
       "    &lt;meta http-equiv=&quot;content-type&quot; content=&quot;text/html; charset=UTF-8&quot; /&gt;\n",
       "    \n",
       "        &lt;script&gt;\n",
       "            L_NO_TOUCH = false;\n",
       "            L_DISABLE_3D = false;\n",
       "        &lt;/script&gt;\n",
       "    \n",
       "    &lt;style&gt;html, body {width: 100%;height: 100%;margin: 0;padding: 0;}&lt;/style&gt;\n",
       "    &lt;style&gt;#map {position:absolute;top:0;bottom:0;right:0;left:0;}&lt;/style&gt;\n",
       "    &lt;script src=&quot;https://cdn.jsdelivr.net/npm/leaflet@1.9.3/dist/leaflet.js&quot;&gt;&lt;/script&gt;\n",
       "    &lt;script src=&quot;https://code.jquery.com/jquery-1.12.4.min.js&quot;&gt;&lt;/script&gt;\n",
       "    &lt;script src=&quot;https://cdn.jsdelivr.net/npm/bootstrap@5.2.2/dist/js/bootstrap.bundle.min.js&quot;&gt;&lt;/script&gt;\n",
       "    &lt;script src=&quot;https://cdnjs.cloudflare.com/ajax/libs/Leaflet.awesome-markers/2.0.2/leaflet.awesome-markers.js&quot;&gt;&lt;/script&gt;\n",
       "    &lt;link rel=&quot;stylesheet&quot; href=&quot;https://cdn.jsdelivr.net/npm/leaflet@1.9.3/dist/leaflet.css&quot;/&gt;\n",
       "    &lt;link rel=&quot;stylesheet&quot; href=&quot;https://cdn.jsdelivr.net/npm/bootstrap@5.2.2/dist/css/bootstrap.min.css&quot;/&gt;\n",
       "    &lt;link rel=&quot;stylesheet&quot; href=&quot;https://netdna.bootstrapcdn.com/bootstrap/3.0.0/css/bootstrap.min.css&quot;/&gt;\n",
       "    &lt;link rel=&quot;stylesheet&quot; href=&quot;https://cdn.jsdelivr.net/npm/@fortawesome/fontawesome-free@6.2.0/css/all.min.css&quot;/&gt;\n",
       "    &lt;link rel=&quot;stylesheet&quot; href=&quot;https://cdnjs.cloudflare.com/ajax/libs/Leaflet.awesome-markers/2.0.2/leaflet.awesome-markers.css&quot;/&gt;\n",
       "    &lt;link rel=&quot;stylesheet&quot; href=&quot;https://cdn.jsdelivr.net/gh/python-visualization/folium/folium/templates/leaflet.awesome.rotate.min.css&quot;/&gt;\n",
       "    \n",
       "            &lt;meta name=&quot;viewport&quot; content=&quot;width=device-width,\n",
       "                initial-scale=1.0, maximum-scale=1.0, user-scalable=no&quot; /&gt;\n",
       "            &lt;style&gt;\n",
       "                #map_5136c598c1a07bc79ebc9892db4b3b2b {\n",
       "                    position: relative;\n",
       "                    width: 100.0%;\n",
       "                    height: 100.0%;\n",
       "                    left: 0.0%;\n",
       "                    top: 0.0%;\n",
       "                }\n",
       "                .leaflet-container { font-size: 1rem; }\n",
       "            &lt;/style&gt;\n",
       "        \n",
       "&lt;/head&gt;\n",
       "&lt;body&gt;\n",
       "    \n",
       "    \n",
       "            &lt;div class=&quot;folium-map&quot; id=&quot;map_5136c598c1a07bc79ebc9892db4b3b2b&quot; &gt;&lt;/div&gt;\n",
       "        \n",
       "&lt;/body&gt;\n",
       "&lt;script&gt;\n",
       "    \n",
       "    \n",
       "            var map_5136c598c1a07bc79ebc9892db4b3b2b = L.map(\n",
       "                &quot;map_5136c598c1a07bc79ebc9892db4b3b2b&quot;,\n",
       "                {\n",
       "                    center: [38.573936, -92.60376],\n",
       "                    crs: L.CRS.EPSG3857,\n",
       "                    zoom: 7,\n",
       "                    zoomControl: true,\n",
       "                    preferCanvas: false,\n",
       "                }\n",
       "            );\n",
       "\n",
       "            \n",
       "\n",
       "        \n",
       "    \n",
       "            var tile_layer_8ef34d7ed3ed25fb4c0be690ccb385d9 = L.tileLayer(\n",
       "                &quot;https://{s}.tile.openstreetmap.org/{z}/{x}/{y}.png&quot;,\n",
       "                {&quot;attribution&quot;: &quot;Data by \\u0026copy; \\u003ca target=\\&quot;_blank\\&quot; href=\\&quot;http://openstreetmap.org\\&quot;\\u003eOpenStreetMap\\u003c/a\\u003e, under \\u003ca target=\\&quot;_blank\\&quot; href=\\&quot;http://www.openstreetmap.org/copyright\\&quot;\\u003eODbL\\u003c/a\\u003e.&quot;, &quot;detectRetina&quot;: false, &quot;maxNativeZoom&quot;: 18, &quot;maxZoom&quot;: 18, &quot;minZoom&quot;: 0, &quot;noWrap&quot;: false, &quot;opacity&quot;: 1, &quot;subdomains&quot;: &quot;abc&quot;, &quot;tms&quot;: false}\n",
       "            ).addTo(map_5136c598c1a07bc79ebc9892db4b3b2b);\n",
       "        \n",
       "    \n",
       "            var marker_afc5fdd9ddb1305a2793949ee9602354 = L.marker(\n",
       "                [42.508592, -78.293956],\n",
       "                {}\n",
       "            ).addTo(map_5136c598c1a07bc79ebc9892db4b3b2b);\n",
       "        \n",
       "    \n",
       "            var icon_0acc3f7f55aace628a8a848ae3fd881c = L.AwesomeMarkers.icon(\n",
       "                {&quot;extraClasses&quot;: &quot;fa-rotate-0&quot;, &quot;icon&quot;: &quot;cloud&quot;, &quot;iconColor&quot;: &quot;white&quot;, &quot;markerColor&quot;: &quot;blue&quot;, &quot;prefix&quot;: &quot;glyphicon&quot;}\n",
       "            );\n",
       "            marker_afc5fdd9ddb1305a2793949ee9602354.setIcon(icon_0acc3f7f55aace628a8a848ae3fd881c);\n",
       "        \n",
       "    \n",
       "            var marker_e9ed5c57ab309e9407e400f811dbe7f7 = L.marker(\n",
       "                [42.873375, -77.871574],\n",
       "                {}\n",
       "            ).addTo(map_5136c598c1a07bc79ebc9892db4b3b2b);\n",
       "        \n",
       "    \n",
       "            var icon_dbeb27f2427ad75082cf57edf6de6f45 = L.AwesomeMarkers.icon(\n",
       "                {&quot;extraClasses&quot;: &quot;fa-rotate-0&quot;, &quot;icon&quot;: &quot;cloud&quot;, &quot;iconColor&quot;: &quot;white&quot;, &quot;markerColor&quot;: &quot;blue&quot;, &quot;prefix&quot;: &quot;glyphicon&quot;}\n",
       "            );\n",
       "            marker_e9ed5c57ab309e9407e400f811dbe7f7.setIcon(icon_dbeb27f2427ad75082cf57edf6de6f45);\n",
       "        \n",
       "    \n",
       "            var marker_c447ac62095235b12456165b33630d5c = L.marker(\n",
       "                [42.833485, -77.901703],\n",
       "                {}\n",
       "            ).addTo(map_5136c598c1a07bc79ebc9892db4b3b2b);\n",
       "        \n",
       "    \n",
       "            var icon_282c0a1837a2b83c613082ed8c279bba = L.AwesomeMarkers.icon(\n",
       "                {&quot;extraClasses&quot;: &quot;fa-rotate-0&quot;, &quot;icon&quot;: &quot;cloud&quot;, &quot;iconColor&quot;: &quot;white&quot;, &quot;markerColor&quot;: &quot;blue&quot;, &quot;prefix&quot;: &quot;glyphicon&quot;}\n",
       "            );\n",
       "            marker_c447ac62095235b12456165b33630d5c.setIcon(icon_282c0a1837a2b83c613082ed8c279bba);\n",
       "        \n",
       "    \n",
       "            var marker_f3087f4a0b2a08de06f6da0c0c03e471 = L.marker(\n",
       "                [42.814438, -78.8507367],\n",
       "                {}\n",
       "            ).addTo(map_5136c598c1a07bc79ebc9892db4b3b2b);\n",
       "        \n",
       "    \n",
       "            var icon_0445fef6b9ab6dda7ee5c8f86b4078ad = L.AwesomeMarkers.icon(\n",
       "                {&quot;extraClasses&quot;: &quot;fa-rotate-0&quot;, &quot;icon&quot;: &quot;cloud&quot;, &quot;iconColor&quot;: &quot;white&quot;, &quot;markerColor&quot;: &quot;blue&quot;, &quot;prefix&quot;: &quot;glyphicon&quot;}\n",
       "            );\n",
       "            marker_f3087f4a0b2a08de06f6da0c0c03e471.setIcon(icon_0445fef6b9ab6dda7ee5c8f86b4078ad);\n",
       "        \n",
       "&lt;/script&gt;\n",
       "&lt;/html&gt;\" style=\"position:absolute;width:100%;height:100%;left:0;top:0;border:none !important;\" allowfullscreen webkitallowfullscreen mozallowfullscreen></iframe></div></div>"
      ],
      "text/plain": [
       "<folium.folium.Map at 0x2af099adc10>"
      ]
     },
     "execution_count": 222,
     "metadata": {},
     "output_type": "execute_result"
    }
   ],
   "source": [
    "# Assuming you have a GeoDataFrame called \"points\" with a \"geometry\" column containing Point geometries\n",
    "for idx, row in points.iterrows():\n",
    "    # Get the coordinates of the point\n",
    "    lon, lat = row.geometry.coords[0]\n",
    "\n",
    "    # Create a marker for each point and add it to the map\n",
    "    folium.Marker([lat, lon], icon=folium.Icon(icon=\"cloud\")).add_to(m)\n",
    "\n",
    "    \n",
    "# Save the map to an HTML file or display it in a Jupyter Notebook\n",
    "m"
   ]
  },
  {
   "cell_type": "code",
   "execution_count": null,
   "id": "f1e2e01c-733e-453b-83c4-72de06d72cb4",
   "metadata": {},
   "outputs": [],
   "source": []
  }
 ],
 "metadata": {
  "kernelspec": {
   "display_name": "Python 3 (ipykernel)",
   "language": "python",
   "name": "python3"
  },
  "language_info": {
   "codemirror_mode": {
    "name": "ipython",
    "version": 3
   },
   "file_extension": ".py",
   "mimetype": "text/x-python",
   "name": "python",
   "nbconvert_exporter": "python",
   "pygments_lexer": "ipython3",
   "version": "3.11.4"
  }
 },
 "nbformat": 4,
 "nbformat_minor": 5
}
