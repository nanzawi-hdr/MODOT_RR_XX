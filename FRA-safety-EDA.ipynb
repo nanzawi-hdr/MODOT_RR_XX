{
 "cells": [
  {
   "cell_type": "code",
   "execution_count": 6,
   "id": "f042aee7-2618-4ebf-9190-b7c09d734357",
   "metadata": {
    "tags": []
   },
   "outputs": [],
   "source": [
    "# set crs\n",
    "crs= {'init': 'epsg:6511'}"
   ]
  },
  {
   "cell_type": "code",
   "execution_count": 1,
   "id": "eb32e8c8-4691-4509-b434-3067480f2066",
   "metadata": {
    "tags": []
   },
   "outputs": [],
   "source": [
    "import pandas\n",
    "import geopandas\n",
    "from path import Path\n",
    "import os\n",
    "import sys\n",
    "import re\n",
    "from functools import reduce"
   ]
  },
  {
   "cell_type": "code",
   "execution_count": 2,
   "id": "da78dac3-9780-4e8b-906f-7be284786b6c",
   "metadata": {
    "tags": []
   },
   "outputs": [],
   "source": [
    "import matplotlib.pyplot as plt\n",
    "from shapely.geometry import Point, Polygon"
   ]
  },
  {
   "cell_type": "code",
   "execution_count": 3,
   "id": "0e32c492-62bc-4aa4-abb6-fec06afde874",
   "metadata": {
    "tags": []
   },
   "outputs": [],
   "source": [
    "# path configuration\n",
    "working_directory = Path.getcwd()\n",
    "\n",
    "inputs_path = working_directory / 'inputs'\n",
    "outputs_path = working_directory / 'outputs'"
   ]
  },
  {
   "cell_type": "code",
   "execution_count": 4,
   "id": "6b592ed0-144c-4ca6-90fd-c301355c16c8",
   "metadata": {
    "tags": []
   },
   "outputs": [],
   "source": [
    "# export function\n",
    "def to_file(callback, desired_name, extension='csv'):\n",
    "    current_files = sorted(outputs_path.files(desired_name + '*.' + extension))\n",
    "    if current_files:\n",
    "        last_file = current_files[-1]\n",
    "        os.remove(last_file)\n",
    "    final_name = '{}.{}'.format(desired_name, extension)\n",
    "    callback(outputs_path / final_name)"
   ]
  },
  {
   "cell_type": "code",
   "execution_count": 9,
   "id": "56cab471-36e4-404b-85a9-b0b05d0b5b79",
   "metadata": {
    "tags": []
   },
   "outputs": [],
   "source": [
    "# read in zone_points and get polygon \n",
    "%store -r zone_points\n",
    "mo_places = geopandas.read_file(inputs_path / 'tl_2017_29_place/tl_2017_29_place.shp').to_crs(6511)"
   ]
  },
  {
   "cell_type": "code",
   "execution_count": null,
   "id": "3d91f7c8-3108-4901-ad76-f8bd4c58fe21",
   "metadata": {
    "tags": []
   },
   "outputs": [],
   "source": [
    "zone_points.groupby(hwy_cols).count()"
   ]
  },
  {
   "cell_type": "code",
   "execution_count": null,
   "id": "3ba5063c-d680-424c-9804-f4da6d2d7ac8",
   "metadata": {
    "tags": []
   },
   "outputs": [],
   "source": [
    "zone_points[hwy_cols]\n",
    "\n",
    "{1:'Yes',\n",
    "2:'No'}"
   ]
  },
  {
   "cell_type": "code",
   "execution_count": null,
   "id": "e883907d-d0f1-4cf3-9eb4-b4c4713bed35",
   "metadata": {
    "tags": []
   },
   "outputs": [],
   "source": [
    "# filter to areas of interest\n",
    "mo_places = mo_places[mo_places.NAME.str.contains('Pleasant Hill|Strasburg')]\n",
    "\n",
    "# view\n",
    "display(\n",
    "    mo_places.head(),\n",
    "    mo_places.plot()\n",
    ")"
   ]
  },
  {
   "cell_type": "code",
   "execution_count": 15,
   "id": "9befc76f-3934-4e56-9f87-7c9f471365d3",
   "metadata": {
    "tags": []
   },
   "outputs": [],
   "source": [
    "# return all points that fall into polygon for assessment\n",
    "filtered_pnts = zone_points.overlay(mo_places,how='difference',keep_geom_type =True)"
   ]
  },
  {
   "cell_type": "code",
   "execution_count": 51,
   "id": "3f27d724-004a-40d1-b5b1-d5ccd62ac915",
   "metadata": {
    "tags": []
   },
   "outputs": [],
   "source": [
    "# safety measures\n",
    "hwy_cols = [col for col in zone_points.columns if any(keyword in col for keyword in ['Hwy', 'Highway'])]\n",
    "trk_cols = [col for col in zone_points.columns if any(keyword in col for keyword in ['Trk', 'Truck','WeekTrnMov'])] \n",
    "rr_cols = [col for col in zone_points.columns if any(keyword in col for keyword in ['Sign','Gate','Flash','Illum','Bells','Std','Surface','Xing', 'Railroad'])] \n",
    "trf_cols = [col for col in zone_points.columns if any(keyword in col for keyword in ['Spd','Traf','Pass','Thru', 'Aadt'])] \n",
    "sfty_cols = [col for col in zone_points.columns if any(keyword in col for keyword in ['Hazmt','Emr'])] "
   ]
  },
  {
   "cell_type": "code",
   "execution_count": 53,
   "id": "90fe3022-e80b-4df1-ac95-2a62c393e170",
   "metadata": {
    "tags": []
   },
   "outputs": [],
   "source": [
    "# fill nana\n",
    "filtered_pnts[trk_cols] = filtered_pnts[trk_cols].fillna(0)"
   ]
  },
  {
   "cell_type": "code",
   "execution_count": 71,
   "id": "a19c3d38-013d-4520-9eb2-c23b66047b98",
   "metadata": {
    "tags": []
   },
   "outputs": [],
   "source": [
    "#Define replacements (dictionary where keys are old values and values are new values)\n",
    "boolean_replacements = {\n",
    "    r'\\b2\\b': 'N', # replacements are regex so that the begininng/end of a string isn't impacted\n",
    "    r'\\b1\\b': 'Y'\n",
    "}\n",
    "\n",
    "# Perform str.replace() for each column in col_list\n",
    "for col in hwy_cols:\n",
    "    filtered_pnts[hwy_cols] = filtered_pnts[hwy_cols].replace(replacements, regex=True)"
   ]
  },
  {
   "cell_type": "code",
   "execution_count": 37,
   "id": "6faf24c1-1013-40d5-a056-b915f919c315",
   "metadata": {
    "tags": []
   },
   "outputs": [
    {
     "data": {
      "text/plain": [
       "array(['2', '3'], dtype=object)"
      ]
     },
     "execution_count": 37,
     "metadata": {},
     "output_type": "execute_result"
    }
   ],
   "source": [
    "df.TypeXing.unique() # pub priv\n",
    "StopStd, YieldStd, Bells # unique number\n",
    "Illumina, no illum"
   ]
  },
  {
   "cell_type": "code",
   "execution_count": null,
   "id": "6c473fff-c681-4cc4-87c9-7b9de4763cea",
   "metadata": {},
   "outputs": [],
   "source": [
    "# zone points - 0/2"
   ]
  },
  {
   "cell_type": "code",
   "execution_count": 44,
   "id": "6293aad4-1ba8-46a0-98e2-eac68fb523b9",
   "metadata": {
    "tags": []
   },
   "outputs": [
    {
     "data": {
      "text/plain": [
       "array(['0'], dtype=object)"
      ]
     },
     "execution_count": 44,
     "metadata": {},
     "output_type": "execute_result"
    }
   ],
   "source": [
    "zone_points.FlashNov.unique()"
   ]
  },
  {
   "cell_type": "code",
   "execution_count": null,
   "id": "746d5e54-9994-4ae3-9143-2a549910c685",
   "metadata": {
    "tags": []
   },
   "outputs": [],
   "source": [
    "pandas.DataFrame(zone_points[rr_cols])"
   ]
  },
  {
   "cell_type": "code",
   "execution_count": 41,
   "id": "45630583-8806-4276-a45d-904a1a496e70",
   "metadata": {
    "tags": []
   },
   "outputs": [
    {
     "data": {
      "text/plain": [
       "array([None, '2', ''], dtype=object)"
      ]
     },
     "execution_count": 41,
     "metadata": {},
     "output_type": "execute_result"
    }
   ],
   "source": [
    "zone_points.Illumina.unique()"
   ]
  },
  {
   "cell_type": "code",
   "execution_count": null,
   "id": "a7dde591-7eb5-49a3-86f6-b8c801756da4",
   "metadata": {
    "tags": []
   },
   "outputs": [],
   "source": [
    "zone_points[rr_cols]"
   ]
  },
  {
   "cell_type": "code",
   "execution_count": null,
   "id": "d2bea566-d615-4961-a902-d6da99f70de0",
   "metadata": {
    "tags": []
   },
   "outputs": [],
   "source": [
    "fig, ax = plt.subplots()\n",
    "\n",
    "mo_places.plot(ax=ax, color='white', edgecolor='black')\n",
    "filtered_pnts.plot(ax=ax, marker='o', color='red', markersize=5)\n",
    "\n",
    "plt.show();"
   ]
  },
  {
   "cell_type": "code",
   "execution_count": null,
   "id": "bb13d2fa-77ed-4dc9-b479-77b8e2edac41",
   "metadata": {
    "tags": []
   },
   "outputs": [],
   "source": [
    "# review data inventory\n",
    "pandas.DataFrame(filtered_pnts.groupby(hwy_cols).size())\n",
    "pandas.DataFrame(filtered_pnts.groupby(trk_cols).size())\n",
    "pandas.DataFrame(filtered_pnts.groupby(rr_cols).size())\n",
    "pandas.DataFrame(filtered_pnts.groupby(trf_cols).size())\n",
    "pandas.DataFrame(filtered_pnts.groupby(sfty_cols).size())"
   ]
  },
  {
   "cell_type": "markdown",
   "id": "fff251de-dc46-4a03-b876-e8966605e132",
   "metadata": {},
   "source": [
    "### Store and export"
   ]
  },
  {
   "cell_type": "code",
   "execution_count": 22,
   "id": "64413927-d3e6-4060-9919-a2addcfeacb8",
   "metadata": {
    "tags": []
   },
   "outputs": [],
   "source": [
    "%store -r df\n",
    "%store mo_places"
   ]
  },
  {
   "cell_type": "code",
   "execution_count": null,
   "id": "dd0bb0dd-04e1-4564-8d02-afb98ef7fd11",
   "metadata": {
    "tags": []
   },
   "outputs": [],
   "source": [
    "# export filtered points as shpe file\n",
    "callback = lambda p: filtered_pnts.to_file(p, driver='ESRI Shapefile')\n",
    "to_file(callback, 'MoDOT_XX_Amtrak_Route_Filtered', 'shp')"
   ]
  },
  {
   "cell_type": "code",
   "execution_count": null,
   "id": "9d705525-bd7d-46d9-b991-cf2444318057",
   "metadata": {
    "tags": []
   },
   "outputs": [],
   "source": [
    "dfs = [df, pandas.DataFrame(filtered_pnts)]\n",
    "\n",
    "with pandas.ExcelWriter('MO_Crossing_Points_Raw_Filtered.xlsx') as writer:  # Specify the Excel file name\n",
    "    for i, df in enumerate(dfs):\n",
    "        # Use the DataFrame name as the sheet name (you may need to adjust this part)\n",
    "        sheet_name = f'Sheet_{i}'  # You can customize the sheet names\n",
    "        df.to_excel(writer, sheet_name=sheet_name, index=False)\n",
    "\n",
    "# Save the Excel file\n",
    "writer.close()"
   ]
  }
 ],
 "metadata": {
  "kernelspec": {
   "display_name": "Python 3 (ipykernel)",
   "language": "python",
   "name": "python3"
  },
  "language_info": {
   "codemirror_mode": {
    "name": "ipython",
    "version": 3
   },
   "file_extension": ".py",
   "mimetype": "text/x-python",
   "name": "python",
   "nbconvert_exporter": "python",
   "pygments_lexer": "ipython3",
   "version": "3.11.4"
  }
 },
 "nbformat": 4,
 "nbformat_minor": 5
}
