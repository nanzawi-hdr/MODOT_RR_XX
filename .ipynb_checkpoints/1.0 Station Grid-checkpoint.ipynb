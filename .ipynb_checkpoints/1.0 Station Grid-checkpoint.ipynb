{
 "cells": [
  {
   "cell_type": "code",
   "execution_count": 3,
   "id": "503d6c95-e7fe-4c1e-89cc-8570502547be",
   "metadata": {
    "tags": []
   },
   "outputs": [],
   "source": [
    "import datetime\n",
    "import json\n",
    "import requests\n",
    "import sys\n",
    "import time\n",
    "import geopandas\n",
    "from path import Path"
   ]
  },
  {
   "cell_type": "code",
   "execution_count": 4,
   "id": "c4772977-12a7-4841-bd4f-57b7474570c3",
   "metadata": {
    "tags": []
   },
   "outputs": [],
   "source": [
    "# path configuration\n",
    "working_directory = Path.getcwd()\n",
    "\n",
    "inputs_path = working_directory / 'inputs'\n",
    "outputs_path = working_directory / 'outputs'"
   ]
  },
  {
   "cell_type": "markdown",
   "id": "1ed341ee-3e55-4931-915b-31f30c42a147",
   "metadata": {},
   "source": [
    "### Initial Setup"
   ]
  },
  {
   "cell_type": "code",
   "execution_count": 5,
   "id": "170fee5b-ed3d-4508-9aec-2f2bae88db27",
   "metadata": {
    "tags": []
   },
   "outputs": [],
   "source": [
    "# Set StreetLight key and email\n",
    "StlKey = \"DgO7zCdYednFilSOR1dTX7jsmsdcoz31\"\n",
    "email = \"chris.ryan@hdrinc.com\""
   ]
  },
  {
   "cell_type": "code",
   "execution_count": 7,
   "id": "c1990bc4-5936-48e4-ac01-7d1a08db691d",
   "metadata": {
    "tags": []
   },
   "outputs": [],
   "source": [
    "now = datetime.datetime.utcnow().isoformat()"
   ]
  },
  {
   "cell_type": "code",
   "execution_count": 8,
   "id": "f6ee39ff-94ac-4ea2-acc8-3f5a3466eb4d",
   "metadata": {
    "tags": []
   },
   "outputs": [],
   "source": [
    "ZONE_SET_NAME = \"Two_Neighborhoods_{}\".format(now)\n",
    "ANALYSIS_NAME = \"OD_for_TN_{}\".format(now)\n",
    "\n",
    "\n",
    "def print_response(response):\n",
    "    print(\"response code: {}\".format(response.status_code))\n",
    "    print(\"response body: {}\".format(response.content))"
   ]
  },
  {
   "cell_type": "code",
   "execution_count": 10,
   "id": "8360719c-d8b0-4859-92af-b2e92e516f82",
   "metadata": {
    "tags": []
   },
   "outputs": [],
   "source": [
    "# ----------------------------------------------------------------------------------------\n",
    "# Create a Zone Set.\n",
    "# ----------------------------------------------------------------------------------------\n",
    "\n",
    "ZONE_SET_REQUEST = {\n",
    "    \"insight_login_email\": email,\n",
    "    \"zone_set_name\": ZONE_SET_NAME,\n",
    "    \"zones\": {\n",
    "        \"type\": \"FeatureCollection\",\n",
    "        \"features\": [\n",
    "            {\n",
    "                \"type\": \"Feature\",\n",
    "                \"properties\": {\n",
    "                    \"id\": 1,\n",
    "                    \"name\": \"Mission\",\n",
    "                    \"is_pass\": 0,\n",
    "                    \"direction\": None,\n",
    "                },\n",
    "                \"geometry\": {\n",
    "                    \"type\": \"MultiPolygon\",\n",
    "                    \"coordinates\": [\n",
    "                        [\n",
    "                            [\n",
    "                                [-122.426698258661972, 37.769562689936315],\n",
    "                                [-122.423394859041892, 37.772083876030344],\n",
    "                                [-122.42225575572462, 37.770418101996292],\n",
    "                                [-122.411206453547067, 37.769427623969634],\n",
    "                                [-122.406991771273155, 37.769067446852375],\n",
    "                                [-122.404656609472752, 37.767716767038294],\n",
    "                                [-122.405169205965521, 37.762628984940662],\n",
    "                                [-122.406593085112107, 37.760557752167074],\n",
    "                                [-122.405795712790038, 37.758441432691242],\n",
    "                                [-122.403232730326167, 37.75722564731312],\n",
    "                                [-122.402549268335804, 37.751821915004783],\n",
    "                                [-122.403346640657901, 37.749390106706535],\n",
    "                                [-122.407561322931784, 37.748399347080543],\n",
    "                                [-122.424875693354338, 37.74781389197571],\n",
    "                                [-122.426698258661972, 37.769562689936315],\n",
    "                            ]\n",
    "                        ]\n",
    "                    ],\n",
    "                },\n",
    "            },\n",
    "            {\n",
    "                \"type\": \"Feature\",\n",
    "                \"properties\": {\n",
    "                    \"id\": 2,\n",
    "                    \"name\": \"Financial District\",\n",
    "                    \"is_pass\": 1,\n",
    "                    \"direction\": None,\n",
    "                },\n",
    "                \"geometry\": {\n",
    "                    \"type\": \"MultiPolygon\",\n",
    "                    \"coordinates\": [\n",
    "                        [\n",
    "                            [\n",
    "                                [-122.405425504211919, 37.798033588378779],\n",
    "                                [-122.398476973976571, 37.798933675051543],\n",
    "                                [-122.396654408668923, 37.799698740100226],\n",
    "                                [-122.397024617247041, 37.79929370664977],\n",
    "                                [-122.396768319000643, 37.798911173018389],\n",
    "                                [-122.395828558763895, 37.797898574431919],\n",
    "                                [-122.393607307295227, 37.799113691070012],\n",
    "                                [-122.392610591892605, 37.797876072083447],\n",
    "                                [-122.394233814119715, 37.79690846455324],\n",
    "                                [-122.393037755636598, 37.795670808599994],\n",
    "                                [-122.3913575782436, 37.796278387822021],\n",
    "                                [-122.390987369665496, 37.795693311702443],\n",
    "                                [-122.392439726395011, 37.794500642185817],\n",
    "                                [-122.389278714689581, 37.791462623416393],\n",
    "                                [-122.401182344355107, 37.781965196242638],\n",
    "                                [-122.405824190372982, 37.785701296639232],\n",
    "                                [-122.406222876534017, 37.785723802695827],\n",
    "                                [-122.407134159187834, 37.790337399578668],\n",
    "                                [-122.404058580231194, 37.790764986655553],\n",
    "                                [-122.405425504211919, 37.798033588378779],\n",
    "                            ]\n",
    "                        ]\n",
    "                    ],\n",
    "                },\n",
    "            },\n",
    "        ],\n",
    "    },\n",
    "}\n"
   ]
  },
  {
   "cell_type": "code",
   "execution_count": 11,
   "id": "176778d9-e442-4da0-a147-83e69ff4366c",
   "metadata": {
    "tags": []
   },
   "outputs": [],
   "source": [
    "CREATE_ANALYSIS_REQUEST = {\n",
    "    \"insight_login_email\": email,\n",
    "    \"analysis_name\": ANALYSIS_NAME,\n",
    "    \"analysis_type\": \"OD_Analysis\",\n",
    "    \"travel_mode_type\": \"All_Vehicles_LBS_Plus\",\n",
    "    \"description\": \"\",\n",
    "    \"oz_sets\": [{\"name\": ZONE_SET_NAME}],\n",
    "    \"dz_sets\": [{\"name\": ZONE_SET_NAME}],\n",
    "    \"day_types\": \"All Days|17, Weekday|14, Weekend Day|67\",\n",
    "    \"day_parts\": \"All Day|0023, Early AM|0005, Peak AM|0609, Mid-Day|1014, Peak PM|1518, Late PM|1923\",\n",
    "    \"trip_attributes\": False,\n",
    "    \"traveler_attributes\": False,\n",
    "}"
   ]
  },
  {
   "cell_type": "code",
   "execution_count": null,
   "id": "1252a506-81be-494c-9791-ed6d204b75a8",
   "metadata": {
    "tags": []
   },
   "outputs": [],
   "source": [
    "url = 'https://insight.streetlightdata.com/api/v2/analyses'\n",
    "response = requests.get(url, verify= f\"https://insight.streetlightdata.com/api/v2/zone_sets?key={StlKey}\")"
   ]
  },
  {
   "cell_type": "code",
   "execution_count": null,
   "id": "919be3df-0fef-41fa-8d86-2fafe2cb0af5",
   "metadata": {
    "tags": []
   },
   "outputs": [],
   "source": [
    "resp = requests.post(\n",
    "    \"https://insight.streetlightdata.com/api/v2/analyses\",\n",
    "    headers={\"content-type\": \"application/json\", \"x-stl-key\": StlKey},\n",
    "    data=json.dumps(CREATE_ANALYSIS_REQUEST),\n",
    ")\n",
    "\n",
    "print_response(resp)\n",
    "\n",
    "if resp.status_code == 201:\n",
    "    print(\"Created Analysis successfully.\")\n",
    "else:\n",
    "    print(\"Error creating Analysis.\")\n",
    "    sys.exit(1)"
   ]
  },
  {
   "cell_type": "code",
   "execution_count": null,
   "id": "3c5d30af-04de-49f6-8baa-af2ee1b868ab",
   "metadata": {},
   "outputs": [],
   "source": [
    "# Set tmap_mode (if needed)\n",
    "# tmap_mode(\"view\")\n",
    "\n",
    "proj = 6595\n",
    "\n",
    "bufferSize = 5280 * 3\n",
    "gridSize = 5280 * 0.33\n",
    "\n",
    "# Read in shapefiles for stationPoints and stationArea\n",
    "stationPoints = gpd.read_file(\"shape/stationPoints.shp\")\n",
    "stationPoints = stationPoints.to_crs(epsg=proj)\n",
    "stationPoints = stationPoints.sort_values(by=\"name\")\n",
    "\n",
    "stationArea = gpd.read_file(\"shape/RailStationAreas.shp\")\n",
    "stationArea = stationArea.to_crs(epsg=proj)\n",
    "stationArea = stationArea[[\"PropName\"]].rename(columns={\"PropName\": \"name\"})\n",
    "stationArea = gpd.sjoin(stationPoints, stationArea, op=\"within\")[[\"name\", \"type\"]]\n",
    "stationArea = stationArea.sort_values(by=\"name\")\n",
    "\n",
    "# Map check\n",
    "basemaps = [\"CartoDB.Positron\", \"OpenStreetMap.Mapnik\", \"Esri.WorldImagery\"]\n",
    "stationArea.plot(color=\"orange\", alpha=0.5)\n",
    "stationPoints.plot(column=\"type\", legend=True, cmap=\"Set1\")\n",
    "\n",
    "# NOTE: Confirm that both GeoDataFrames have the same number of locations and are in the same order for 'name'\n",
    "(stationPoints[\"name\"] == stationArea[\"name\"]).all()\n"
   ]
  },
  {
   "cell_type": "markdown",
   "id": "021ba3e1-33a6-4a0f-ae76-455e545a6364",
   "metadata": {
    "tags": []
   },
   "source": [
    "### Define each zone"
   ]
  },
  {
   "cell_type": "code",
   "execution_count": null,
   "id": "cbc00629-67c5-4987-be8d-2611cf15ae06",
   "metadata": {},
   "outputs": [],
   "source": [
    "# Create StL Zone Sets ----------------------------------------------------\n",
    "\n",
    "# Create Station Area Zones\n",
    "stationArea_ZS = stationArea[[\"name\"]].copy()\n",
    "stationArea_ZS[\"id\"] = range(1, len(stationArea_ZS) + 1)\n",
    "stationArea_ZS[\"is_pass\"] = 0\n",
    "stationArea_ZS[\"direction\"] = None\n",
    "stationArea_ZS = stationArea_ZS.to_crs(epsg=4326)\n",
    "stationArea_ZS = stationArea_ZS.set_z(0)\n"
   ]
  },
  {
   "cell_type": "code",
   "execution_count": null,
   "id": "2037bf7b-941d-4cdd-9ced-f3d7d4ada507",
   "metadata": {},
   "outputs": [],
   "source": [
    "# Convert to JSON\n",
    "zone_set_name = \"StationAreas2021-09-17\"\n",
    "zones = json.loads(stationArea_ZS.to_json())\n",
    "\n",
    "body = {\n",
    "    \"insight_login_email\": email,\n",
    "    \"geom_type\": \"polygon\",\n",
    "    \"zone_set_name\": zone_set_name,\n",
    "    \"zones\": zones\n",
    "}\n",
    "\n",
    "# Convert to final JSON file\n",
    "bodyJSON = json.dumps(body)"
   ]
  },
  {
   "cell_type": "code",
   "execution_count": null,
   "id": "5297d949-8307-4379-a211-a8aaddcc4868",
   "metadata": {},
   "outputs": [],
   "source": [
    "# API call to create Zone Set\n",
    "def api_call(url, data):\n",
    "    headers = {\"Content-Type\": \"application/json\"}\n",
    "    response = requests.post(url, headers=headers, json=data)\n",
    "    response.raise_for_status()\n",
    "    return response\n",
    "\n",
    "url = f\"https://insight.streetlightdata.com/api/v2/zone_sets?key={StlKey}\"\n",
    "api_call(url, bodyJSON)"
   ]
  },
  {
   "cell_type": "code",
   "execution_count": null,
   "id": "9f6467b8-5135-4b5f-9edc-b36a6a302214",
   "metadata": {},
   "outputs": [],
   "source": [
    "# Loop to create hex grid zone set for each station area\n",
    "allGrid = gpd.GeoDataFrame(crs=proj)\n",
    "for _, station in stationPoints.iterrows():\n",
    "    buffer = station.geometry.buffer(bufferSize)\n",
    "    grid = buffer.sindex.query(buffer, predicate=\"intersects\")\n",
    "    grid = buffer[grid].difference(stationArea.loc[_][\"geometry\"])\n",
    "    grid = grid.rename(columns={\"geometry\": \"name\"}).reset_index(drop=True)\n",
    "    grid[\"id\"] = range(1, len(grid) + 1)\n",
    "    grid[\"is_pass\"] = 0\n",
    "    grid[\"direction\"] = None\n",
    "    grid = grid.set_z(0)\n",
    "\n",
    "    allGrid = allGrid.append(grid)\n",
    "\n",
    "    # Convert to JSON\n",
    "    zone_set_name = station[\"name\"] + str(grid[\"id\"].iloc[0])\n",
    "    zones = json.loads(grid.to_json())\n",
    "\n",
    "    body = {\n",
    "        \"insight_login_email\": email,\n",
    "        \"geom_type\": \"polygon\",\n",
    "        \"zone_set_name\": zone_set_name,\n",
    "        \"zones\": zones\n",
    "    }\n",
    "\n",
    "    # Convert to final JSON file\n",
    "    bodyJSON = json.dumps(body)\n",
    "\n",
    "    # API call to create Zone Set\n",
    "    url = f\"https://insight.streetlightdata.com/api/v2/zone_sets?key={StlKey}\"\n",
    "    api_call(url, bodyJSON)\n",
    "\n",
    "allGrid.plot(alpha=0.5)\n",
    "\n",
    "# Save data for Step 2.0\n",
    "allGrid.to_file(\"shape/stationArea.geojson\", driver=\"GeoJSON\")"
   ]
  }
 ],
 "metadata": {
  "kernelspec": {
   "display_name": "Python 3 (ipykernel)",
   "language": "python",
   "name": "python3"
  },
  "language_info": {
   "codemirror_mode": {
    "name": "ipython",
    "version": 3
   },
   "file_extension": ".py",
   "mimetype": "text/x-python",
   "name": "python",
   "nbconvert_exporter": "python",
   "pygments_lexer": "ipython3",
   "version": "3.11.4"
  }
 },
 "nbformat": 4,
 "nbformat_minor": 5
}
