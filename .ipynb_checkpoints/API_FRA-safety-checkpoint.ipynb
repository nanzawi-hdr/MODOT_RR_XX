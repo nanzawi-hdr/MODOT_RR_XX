{
 "cells": [
  {
   "cell_type": "markdown",
   "id": "8258db7b-2a18-448a-ac7a-556306a11a3f",
   "metadata": {},
   "source": [
    "## See Crossing Inventory Data Search for more information. [Link]('https://railroads.dot.gov/safety-data/fra-safety-data-reporting/crossing-inventory-data-search?title=&field_topic_target_id=1311')"
   ]
  },
  {
   "cell_type": "code",
   "execution_count": 1,
   "id": "34d9a8b8-51cc-4f90-a238-e00498efa443",
   "metadata": {
    "tags": []
   },
   "outputs": [],
   "source": [
    "import urllib\n",
    "import pandas\n",
    "import json\n",
    "import requests\n",
    "import numpy\n",
    "import os\n",
    "import sys\n",
    "import geopandas\n",
    "import janitor\n",
    "from path import Path\n",
    "import folium\n",
    "import matplotlib.pyplot as plt"
   ]
  },
  {
   "cell_type": "code",
   "execution_count": 2,
   "id": "f9012b4d-4ea2-40b5-9bbe-ca7347c6520e",
   "metadata": {
    "tags": []
   },
   "outputs": [],
   "source": [
    "# path configuration\n",
    "working_directory = Path.getcwd()\n",
    "\n",
    "inputs_path = working_directory / 'inputs'\n",
    "outputs_path = working_directory / 'outputs'"
   ]
  },
  {
   "cell_type": "code",
   "execution_count": 3,
   "id": "8001ba0b-9786-4b68-bd87-c7ba709d5eac",
   "metadata": {},
   "outputs": [],
   "source": [
    "# set up api parameters\n",
    "base_url = \"https://safetydata.fra.dot.gov/MasterWebService/PublicApi/frads/v1/odata/gcis\"\n",
    "dataset = 'Crossings'\n",
    "state_fips = \"StateCD eq '29'\"\n",
    "api_key = '7d9f06fbf611c46d2d767ebd72742923'"
   ]
  },
  {
   "cell_type": "code",
   "execution_count": 4,
   "id": "401d019b-3a49-4fd2-bb6f-050c6360846e",
   "metadata": {
    "tags": []
   },
   "outputs": [],
   "source": [
    "# Define the number of items to retrieve per API call\n",
    "items_per_call = 10\n",
    "\n",
    "# Initialize a variable to keep track of the current skip value\n",
    "current_skip = 0\n",
    "\n",
    "total_items_to_retrieve = 400\n",
    "\n",
    "# Create an empty list to store the data\n",
    "data_list = []"
   ]
  },
  {
   "cell_type": "markdown",
   "id": "db0da8c8-4356-4c16-ac64-95d1dab46340",
   "metadata": {},
   "source": [
    "### By State"
   ]
  },
  {
   "cell_type": "code",
   "execution_count": 18,
   "id": "2b2d13db-a68e-4e10-8a24-262b5cd8c027",
   "metadata": {
    "tags": []
   },
   "outputs": [],
   "source": [
    "# Create a loop to make API calls until you reach the total_items_to_retrieve\n",
    "while current_skip < total_items_to_retrieve:\n",
    "    # Build the API endpoint with the current skip value\n",
    "    endpoint = f\"{base_url}/{dataset}?&token={api_key}&$format=json&$filter={state_fips}&$skip={current_skip}\"\n",
    "\n",
    "    # Make the API call here\n",
    "    response = requests.get(endpoint)\n",
    "    \n",
    "    # Check if the API call was successful\n",
    "    if response.status_code == 200:\n",
    "        # Convert the API response data to a DataFrame\n",
    "        api_data = response.json().get('value', [])  # Extract 'value' key\n",
    "        \n",
    "        # Extend the data_list with the extracted data\n",
    "        data_list.extend(api_data)\n",
    "        \n",
    "        # Increment the skip value for the next iteration\n",
    "        current_skip += items_per_call\n",
    "    else:\n",
    "        print(f\"API request failed with status code {response.status_code}\")\n",
    "        break  # Exit the loop if the API request fails\n",
    "\n",
    "# Create a DataFrame from the data_list\n",
    "df = pandas.DataFrame(data_list)"
   ]
  },
  {
   "cell_type": "markdown",
   "id": "a7badaa7-4b55-4f86-84eb-9d3c23ce11fe",
   "metadata": {},
   "source": [
    "### By Reporting Agency"
   ]
  },
  {
   "cell_type": "code",
   "execution_count": 12,
   "id": "00c6aff5-696f-4c0c-9985-e2bc92f81d87",
   "metadata": {
    "tags": []
   },
   "outputs": [],
   "source": [
    "# by agency ID\n",
    "agency = 'ReportingAgencyId eq 891'\n",
    "\n",
    "# Create a loop to make API calls until you reach the total_items_to_retrieve\n",
    "while current_skip < total_items_to_retrieve:\n",
    "    # Build the API endpoint with the current skip value\n",
    "    endpoint = f\"{base_url}/{dataset}?&token={api_key}&$format=json&$filter={agency}&$skip={current_skip}\"\n",
    "    # Make the API call here\n",
    "    response = requests.get(endpoint)\n",
    "    \n",
    "    # Check if the API call was successful\n",
    "    if response.status_code == 200:\n",
    "        # Convert the API response data to a DataFrame\n",
    "        api_data = response.json().get('value', [])  # Extract 'value' key\n",
    "        \n",
    "        # Extend the data_list with the extracted data\n",
    "        data_list.extend(api_data)\n",
    "        \n",
    "        # Increment the skip value for the next iteration\n",
    "        current_skip += items_per_call\n",
    "    else:\n",
    "        print(f\"API request failed with status code {response.status_code}\")\n",
    "        break  # Exit the loop if the API request fails\n",
    "\n",
    "# Create a DataFrame from the data_list\n",
    "df = pandas.DataFrame(data_list)"
   ]
  },
  {
   "cell_type": "markdown",
   "id": "4f8cf0f2-1053-4341-99b7-b4154f07b89f",
   "metadata": {},
   "source": [
    "### By county"
   ]
  },
  {
   "cell_type": "code",
   "execution_count": 5,
   "id": "83bf9a0f-1baf-4573-a0aa-4a5fc67f0815",
   "metadata": {
    "tags": []
   },
   "outputs": [],
   "source": [
    "county_fips = \"CntyCD eq '29037'\"\n",
    "\n",
    "# Create a loop to make API calls until you reach the total_items_to_retrieve\n",
    "while current_skip < total_items_to_retrieve:\n",
    "    # Build the API endpoint with the current skip value\n",
    "    endpoint = f\"{base_url}/{dataset}?&token={api_key}&$format=json&$filter={county_fips}&$skip={current_skip}\"\n",
    "\n",
    "    # Make the API call here\n",
    "    response = requests.get(endpoint)\n",
    "    \n",
    "    # Check if the API call was successful\n",
    "    if response.status_code == 200:\n",
    "        # Convert the API response data to a DataFrame\n",
    "        api_data = response.json().get('value', [])  # Extract 'value' key\n",
    "        \n",
    "        # Extend the data_list with the extracted data\n",
    "        data_list.extend(api_data)\n",
    "        \n",
    "        # Increment the skip value for the next iteration\n",
    "        current_skip += items_per_call\n",
    "    else:\n",
    "        print(f\"API request failed with status code {response.status_code}\")\n",
    "        break  # Exit the loop if the API request fails\n",
    "\n",
    "# Create a DataFrame from the data_list\n",
    "df = pandas.DataFrame(data_list)"
   ]
  },
  {
   "cell_type": "markdown",
   "id": "92c040d6-7e05-4d88-9072-03f5c66cfb04",
   "metadata": {
    "tags": []
   },
   "source": [
    "### By Railroad"
   ]
  },
  {
   "cell_type": "code",
   "execution_count": 6,
   "id": "c196a617-1eae-498a-a517-6813a400137d",
   "metadata": {
    "tags": []
   },
   "outputs": [],
   "source": [
    "# by railroad\n",
    "railroad = \"OperatingRailroadCode eq 'AM'\"\n",
    "\n",
    "# Create a loop to make API calls until you reach the total_items_to_retrieve\n",
    "while current_skip < total_items_to_retrieve:\n",
    "    # Build the API endpoint with the current skip value\n",
    "    endpoint = f\"{base_url}/{dataset}?&token={api_key}&$format=json&$filter={railroad}&$skip={current_skip}\"\n",
    "\n",
    "    # Make the API call here\n",
    "    response = requests.get(endpoint)\n",
    "    \n",
    "    # Check if the API call was successful\n",
    "    if response.status_code == 200:\n",
    "        # Convert the API response data to a DataFrame\n",
    "        api_data = response.json().get('value', [])  # Extract 'value' key\n",
    "        \n",
    "        # Extend the data_list with the extracted data\n",
    "        data_list.extend(api_data)\n",
    "        \n",
    "        # Increment the skip value for the next iteration\n",
    "        current_skip += items_per_call\n",
    "    else:\n",
    "        print(f\"API request failed with status code {response.status_code}\")\n",
    "        break  # Exit the loop if the API request fails\n",
    "\n",
    "# Create a DataFrame from the data_list\n",
    "df = pandas.DataFrame(data_list)"
   ]
  },
  {
   "cell_type": "code",
   "execution_count": 8,
   "id": "b925a021-0c6a-4083-8846-57cbc0a98abd",
   "metadata": {
    "tags": []
   },
   "outputs": [],
   "source": [
    "# drop any instance null values from df return for Latitude OR Lnogitude\n",
    "df = df[~df.Latitude.isna() | ~df.Longitude.isna()]"
   ]
  },
  {
   "cell_type": "code",
   "execution_count": 10,
   "id": "e248d0e0-be9e-4cd3-a437-ce95ce52a3e4",
   "metadata": {
    "tags": []
   },
   "outputs": [
    {
     "name": "stderr",
     "output_type": "stream",
     "text": [
      "C:\\Users\\nanzawi\\AppData\\Local\\anaconda3\\Lib\\site-packages\\pyproj\\crs\\crs.py:141: FutureWarning: '+init=<authority>:<code>' syntax is deprecated. '<authority>:<code>' is the preferred initialization method. When making the change, be mindful of axis order changes: https://pyproj4.github.io/pyproj/stable/gotchas.html#axis-order-changes-in-proj-6\n",
      "  in_crs_string = _prepare_from_proj_string(in_crs_string)\n"
     ]
    }
   ],
   "source": [
    "#make points spatial\n",
    "crs= {'init': 'epsg:6511'}\n",
    "\n",
    "points = geopandas.GeoDataFrame(\n",
    "    df, crs=crs, geometry=geopandas.points_from_xy(df.Longitude, df.Latitude)\n",
    ")\n",
    "\n",
    "# make points float data type\n",
    "points[['Latitude','Longitude']] = points[['Latitude','Longitude']].astype(float)"
   ]
  },
  {
   "cell_type": "code",
   "execution_count": 13,
   "id": "f1fb6088-4033-4fe7-9fe5-efac36530947",
   "metadata": {
    "tags": []
   },
   "outputs": [],
   "source": [
    "# Latitude and Longitude coordinates for Missouri\n",
    "missouri_coordinates = [38.573936, -92.603760]\n",
    "\n",
    "# Create a Folium map centered around Missouri\n",
    "m = folium.Map(location=missouri_coordinates, zoom_start=7)"
   ]
  },
  {
   "cell_type": "code",
   "execution_count": null,
   "id": "0fcfcb14-1e40-4533-a830-82b8edc59322",
   "metadata": {
    "tags": []
   },
   "outputs": [],
   "source": [
    "# Assuming you have a GeoDataFrame called \"points\" with a \"geometry\" column containing Point geometries\n",
    "for idx, row in points.iterrows():\n",
    "    # Get the coordinates of the point\n",
    "    lon, lat = row.geometry.coords[0]\n",
    "\n",
    "    # Create a marker for each point and add it to the map\n",
    "    folium.Marker([lat, lon], icon=folium.Icon(icon=\"cloud\")).add_to(m)\n",
    "\n",
    "# Save the map to an HTML file or display it in a Jupyter Notebook\n",
    "m"
   ]
  },
  {
   "cell_type": "code",
   "execution_count": null,
   "id": "df701f89-c3d3-4bf1-9943-026bf998bd94",
   "metadata": {},
   "outputs": [],
   "source": []
  }
 ],
 "metadata": {
  "kernelspec": {
   "display_name": "Python 3 (ipykernel)",
   "language": "python",
   "name": "python3"
  },
  "language_info": {
   "codemirror_mode": {
    "name": "ipython",
    "version": 3
   },
   "file_extension": ".py",
   "mimetype": "text/x-python",
   "name": "python",
   "nbconvert_exporter": "python",
   "pygments_lexer": "ipython3",
   "version": "3.11.4"
  }
 },
 "nbformat": 4,
 "nbformat_minor": 5
}
