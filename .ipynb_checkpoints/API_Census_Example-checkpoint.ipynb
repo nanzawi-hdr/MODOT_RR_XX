{
 "cells": [
  {
   "cell_type": "markdown",
   "id": "32ddea47-7c62-45a9-b657-4dd6c76a931f",
   "metadata": {
    "tags": []
   },
   "source": [
    "[Census API Datasets]('https://api.census.gov/data.html')\n",
    "* ACS/Tiger Mapping files: https://www2.census.gov/geo/tiger/TIGER_DP/\n",
    "* 2022 Relationship Files: https://www2.census.gov/geo/tiger/TIGER2022/"
   ]
  },
  {
   "cell_type": "code",
   "execution_count": 1,
   "id": "34d9a8b8-51cc-4f90-a238-e00498efa443",
   "metadata": {
    "tags": []
   },
   "outputs": [],
   "source": [
    "import pandas \n",
    "import json\n",
    "import requests\n",
    "import numpy\n",
    "import os\n",
    "import sys\n",
    "import geopandas\n",
    "import janitor"
   ]
  },
  {
   "cell_type": "code",
   "execution_count": 2,
   "id": "65c4c550-5db1-475c-abc2-8f510798d3c1",
   "metadata": {
    "tags": []
   },
   "outputs": [],
   "source": [
    "base_url = \"https://api.census.gov/data\"\n",
    "dataset = \"acs/acs5\"\n",
    "year = \"2019\"\n",
    "variables = \"B01001_001E\"  # Population variable\n",
    "state = \"06\"  # California FIPS code\n",
    "county = \"073\"  # Los Angeles County FIPS code\n",
    "tract = \"*\"  # All tracts within the county\n",
    "api_key = \"84c7d937e5b6038afeb17bd5615eceef179ff9a3\"\n",
    "\n",
    "endpoint = f\"{base_url}/{year}/{dataset}?get={variables}&for=tract:{tract}&in=state:{state}&in=county:{county}&key={api_key}\""
   ]
  },
  {
   "cell_type": "code",
   "execution_count": 3,
   "id": "d9ebd800-8ade-4f33-a8f8-eaa3b64ccd43",
   "metadata": {
    "tags": []
   },
   "outputs": [
    {
     "data": {
      "text/plain": [
       "'https://api.census.gov/data/2019/acs/acs5?get=B01001_001E&for=tract:*&in=state:06&in=county:073&key=84c7d937e5b6038afeb17bd5615eceef179ff9a3'"
      ]
     },
     "execution_count": 3,
     "metadata": {},
     "output_type": "execute_result"
    }
   ],
   "source": [
    "endpoint"
   ]
  },
  {
   "cell_type": "code",
   "execution_count": 4,
   "id": "9168a08f-0f18-4af2-9727-2f486ec8121c",
   "metadata": {
    "tags": []
   },
   "outputs": [],
   "source": [
    "response = requests.get(endpoint)\n",
    "if response.status_code == 200:\n",
    "    data = response.json()\n",
    "else:\n",
    "    print(\"Error fetching data from the API\")\n"
   ]
  },
  {
   "cell_type": "code",
   "execution_count": 5,
   "id": "d9117b43-ff5d-48a3-8d76-1b8d0aed3b08",
   "metadata": {
    "tags": []
   },
   "outputs": [],
   "source": [
    "df = pandas.DataFrame(data[1:], columns=data[0])\n"
   ]
  },
  {
   "cell_type": "code",
   "execution_count": 6,
   "id": "57521fae-69ad-4f57-8951-0d686ddabe6a",
   "metadata": {
    "tags": []
   },
   "outputs": [
    {
     "data": {
      "text/html": [
       "<div>\n",
       "<style scoped>\n",
       "    .dataframe tbody tr th:only-of-type {\n",
       "        vertical-align: middle;\n",
       "    }\n",
       "\n",
       "    .dataframe tbody tr th {\n",
       "        vertical-align: top;\n",
       "    }\n",
       "\n",
       "    .dataframe thead th {\n",
       "        text-align: right;\n",
       "    }\n",
       "</style>\n",
       "<table border=\"1\" class=\"dataframe\">\n",
       "  <thead>\n",
       "    <tr style=\"text-align: right;\">\n",
       "      <th></th>\n",
       "      <th>B01001_001E</th>\n",
       "      <th>state</th>\n",
       "      <th>county</th>\n",
       "      <th>tract</th>\n",
       "    </tr>\n",
       "  </thead>\n",
       "  <tbody>\n",
       "    <tr>\n",
       "      <th>0</th>\n",
       "      <td>6856</td>\n",
       "      <td>06</td>\n",
       "      <td>073</td>\n",
       "      <td>016504</td>\n",
       "    </tr>\n",
       "    <tr>\n",
       "      <th>1</th>\n",
       "      <td>5188</td>\n",
       "      <td>06</td>\n",
       "      <td>073</td>\n",
       "      <td>017051</td>\n",
       "    </tr>\n",
       "    <tr>\n",
       "      <th>2</th>\n",
       "      <td>3305</td>\n",
       "      <td>06</td>\n",
       "      <td>073</td>\n",
       "      <td>017053</td>\n",
       "    </tr>\n",
       "    <tr>\n",
       "      <th>3</th>\n",
       "      <td>5731</td>\n",
       "      <td>06</td>\n",
       "      <td>073</td>\n",
       "      <td>017054</td>\n",
       "    </tr>\n",
       "    <tr>\n",
       "      <th>4</th>\n",
       "      <td>5277</td>\n",
       "      <td>06</td>\n",
       "      <td>073</td>\n",
       "      <td>017052</td>\n",
       "    </tr>\n",
       "    <tr>\n",
       "      <th>...</th>\n",
       "      <td>...</td>\n",
       "      <td>...</td>\n",
       "      <td>...</td>\n",
       "      <td>...</td>\n",
       "    </tr>\n",
       "    <tr>\n",
       "      <th>623</th>\n",
       "      <td>7883</td>\n",
       "      <td>06</td>\n",
       "      <td>073</td>\n",
       "      <td>020020</td>\n",
       "    </tr>\n",
       "    <tr>\n",
       "      <th>624</th>\n",
       "      <td>6054</td>\n",
       "      <td>06</td>\n",
       "      <td>073</td>\n",
       "      <td>007200</td>\n",
       "    </tr>\n",
       "    <tr>\n",
       "      <th>625</th>\n",
       "      <td>4477</td>\n",
       "      <td>06</td>\n",
       "      <td>073</td>\n",
       "      <td>015302</td>\n",
       "    </tr>\n",
       "    <tr>\n",
       "      <th>626</th>\n",
       "      <td>5340</td>\n",
       "      <td>06</td>\n",
       "      <td>073</td>\n",
       "      <td>016401</td>\n",
       "    </tr>\n",
       "    <tr>\n",
       "      <th>627</th>\n",
       "      <td>1881</td>\n",
       "      <td>06</td>\n",
       "      <td>073</td>\n",
       "      <td>016613</td>\n",
       "    </tr>\n",
       "  </tbody>\n",
       "</table>\n",
       "<p>628 rows × 4 columns</p>\n",
       "</div>"
      ],
      "text/plain": [
       "    B01001_001E state county   tract\n",
       "0          6856    06    073  016504\n",
       "1          5188    06    073  017051\n",
       "2          3305    06    073  017053\n",
       "3          5731    06    073  017054\n",
       "4          5277    06    073  017052\n",
       "..          ...   ...    ...     ...\n",
       "623        7883    06    073  020020\n",
       "624        6054    06    073  007200\n",
       "625        4477    06    073  015302\n",
       "626        5340    06    073  016401\n",
       "627        1881    06    073  016613\n",
       "\n",
       "[628 rows x 4 columns]"
      ]
     },
     "execution_count": 6,
     "metadata": {},
     "output_type": "execute_result"
    }
   ],
   "source": [
    "df"
   ]
  },
  {
   "cell_type": "code",
   "execution_count": null,
   "id": "a264cb2c-0b1f-46bb-a0f2-14301a33f7c8",
   "metadata": {},
   "outputs": [],
   "source": [
    "# You can save the results to a file or process them as needed"
   ]
  }
 ],
 "metadata": {
  "kernelspec": {
   "display_name": "Python 3 (ipykernel)",
   "language": "python",
   "name": "python3"
  },
  "language_info": {
   "codemirror_mode": {
    "name": "ipython",
    "version": 3
   },
   "file_extension": ".py",
   "mimetype": "text/x-python",
   "name": "python",
   "nbconvert_exporter": "python",
   "pygments_lexer": "ipython3",
   "version": "3.11.4"
  }
 },
 "nbformat": 4,
 "nbformat_minor": 5
}
