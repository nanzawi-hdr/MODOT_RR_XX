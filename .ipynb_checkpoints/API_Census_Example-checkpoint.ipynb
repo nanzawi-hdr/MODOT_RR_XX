{
 "cells": [
  {
   "cell_type": "markdown",
   "id": "32ddea47-7c62-45a9-b657-4dd6c76a931f",
   "metadata": {
    "tags": []
   },
   "source": [
    "[Census API Datasets]('https://api.census.gov/data.html')\n",
    "* ACS/Tiger Mapping files: https://www2.census.gov/geo/tiger/TIGER_DP/\n",
    "* 2022 Relationship Files: https://www2.census.gov/geo/tiger/TIGER2022/"
   ]
  },
  {
   "cell_type": "code",
   "execution_count": 1,
   "id": "34d9a8b8-51cc-4f90-a238-e00498efa443",
   "metadata": {
    "tags": []
   },
   "outputs": [],
   "source": [
    "import pandas \n",
    "import json\n",
    "import requests\n",
    "import numpy\n",
    "import os\n",
    "import sys\n",
    "import geopandas\n",
    "import janitor\n",
    "from path import Path"
   ]
  },
  {
   "cell_type": "code",
   "execution_count": 188,
   "id": "7921abd6-ee46-418f-bd83-bd11c0f1a9d9",
   "metadata": {
    "tags": []
   },
   "outputs": [],
   "source": [
    "# capture geoid codes from url\n",
    "geoid_codes = 'https://transition.fcc.gov/oet/info/maps/census/fips/fips.txt'\n",
    "\n",
    "# read in url and retain fips codes and names, set as string objects and index\n",
    "state_fips = pandas.read_fwf(geoid_codes,skiprows=16,nrows=53,names=['FIPS Code','Name'],dtype={'FIPS Code': 'str'})\n",
    "county_fips = pandas.read_fwf(geoid_codes,skiprows=73,names=['FIPS Code','Name'],dtype={'FIPS Code': 'str'})\n",
    "\n",
    "# Define a function to apply str.title()\n",
    "def title_col(df, column_name):\n",
    "    df[column_name] = df[column_name].str.title()\n",
    "\n",
    "# apply function and rename with appropriate geos\n",
    "title_col(state_fips, 'Name')\n",
    "title_col(county_fips, 'Name')\n",
    "\n",
    "# rename column fips codes to appropriate geos\n",
    "\n",
    "state_fips.rename(columns={'FIPS Code':'state'},inplace=True)\n",
    "county_fips.rename(columns={'FIPS Code':'county'},inplace=True)"
   ]
  },
  {
   "cell_type": "code",
   "execution_count": 189,
   "id": "45d6cae3-339a-457e-9851-956cc952c2f0",
   "metadata": {
    "tags": []
   },
   "outputs": [],
   "source": [
    "# make dictionaries\n",
    "state_dict = state_fips.set_index('state')['Name'].to_dict()\n",
    "county_dict = county_fips.set_index('county')['Name'].to_dict()"
   ]
  },
  {
   "cell_type": "markdown",
   "id": "30404b09-f064-48de-ba3d-23ff3d8a064b",
   "metadata": {},
   "source": [
    "### Example API"
   ]
  },
  {
   "cell_type": "code",
   "execution_count": 219,
   "id": "65c4c550-5db1-475c-abc2-8f510798d3c1",
   "metadata": {
    "tags": []
   },
   "outputs": [],
   "source": [
    "base_url = \"https://api.census.gov/data\"\n",
    "dataset = \"acs/acs5\"\n",
    "year = \"2019\"\n",
    "variables = \"B01001_001E\"  # Population variable\n",
    "state = \"06\"  # California FIPS code\n",
    "county = \"073\"  # Los Angeles County FIPS code\n",
    "tract = \"*\"  # All tracts within the county\n",
    "api_key = \"84c7d937e5b6038afeb17bd5615eceef179ff9a3\"\n",
    "\n",
    "endpoint = f\"{base_url}/{year}/{dataset}?get={variables}&for=tract:{tract}&in=state:{state}&in=county:{county}&key={api_key}\""
   ]
  },
  {
   "cell_type": "code",
   "execution_count": 220,
   "id": "9168a08f-0f18-4af2-9727-2f486ec8121c",
   "metadata": {
    "tags": []
   },
   "outputs": [],
   "source": [
    "# set up response for API \n",
    "\n",
    "response = requests.get(endpoint)\n",
    "if response.status_code == 200:\n",
    "    data = response.json()\n",
    "else:\n",
    "    print(\"Error fetching data from the API\")"
   ]
  },
  {
   "cell_type": "code",
   "execution_count": 215,
   "id": "d9117b43-ff5d-48a3-8d76-1b8d0aed3b08",
   "metadata": {
    "tags": []
   },
   "outputs": [],
   "source": [
    "# create dataframe \n",
    "df = pandas.DataFrame(data[1:], columns=data[0])\n",
    "\n",
    "# make geograpihes a string\n",
    "df[['state','county','tract']] = df[['state','county','tract']].astype('str')"
   ]
  },
  {
   "cell_type": "code",
   "execution_count": null,
   "id": "84737851-acb2-42be-afb8-3d35f9507b97",
   "metadata": {},
   "outputs": [],
   "source": [
    "# view\n",
    "df.head()"
   ]
  },
  {
   "cell_type": "code",
   "execution_count": 195,
   "id": "3a8f43ca-fd87-4c85-900a-0ac510502d3b",
   "metadata": {
    "tags": []
   },
   "outputs": [],
   "source": [
    "# add prefix to county name\n",
    "df['county'] = df['state'] + df['county']\n",
    "\n",
    "# append  dictionary\n",
    "df = df.replace({'county':county_dict,\n",
    "                 'state':state_dict})\n",
    "\n",
    "# change table name\n",
    "df.rename(columns={'B01001_001E':'total_population'},inplace= True)"
   ]
  },
  {
   "cell_type": "code",
   "execution_count": null,
   "id": "a264cb2c-0b1f-46bb-a0f2-14301a33f7c8",
   "metadata": {},
   "outputs": [],
   "source": [
    "# You can save the results to a file or process them as needed"
   ]
  },
  {
   "cell_type": "markdown",
   "id": "215d1d43-aa6e-4872-99b2-56f69bacfe67",
   "metadata": {},
   "source": [
    "### Example 2 - More Detailed Table Collection"
   ]
  },
  {
   "cell_type": "code",
   "execution_count": 229,
   "id": "a88bc06f-4739-42d2-beac-c4bceca646bf",
   "metadata": {
    "tags": []
   },
   "outputs": [],
   "source": [
    "# read in product table and create different api call\n",
    "\n",
    "# path configuration\n",
    "working_directory = Path.getcwd()\n",
    "inputs_path = working_directory /'inputs'\n",
    "\n",
    "# read in spreadsheet with table names\n",
    "tables = pandas.read_excel(inputs_path/'2021_DataProductList.xlsx')"
   ]
  },
  {
   "cell_type": "code",
   "execution_count": null,
   "id": "ddc30500-fa5c-44f9-a5fb-13b3820aa3c9",
   "metadata": {
    "tags": []
   },
   "outputs": [],
   "source": [
    "tables.head()"
   ]
  },
  {
   "cell_type": "code",
   "execution_count": 267,
   "id": "7583b61b-c213-459d-bed7-59ca652e9428",
   "metadata": {},
   "outputs": [],
   "source": [
    "# filter to see if there are table dems of interest\n",
    "\n",
    "table_dems = list(tables['Table Universe'].unique())\n",
    "\n",
    "# example - use keywords transportation and income and filter for table names\n",
    "\n",
    "# get all tables for C0100A\n",
    "group = list(tables[tables['Table ID'].str.contains('C01001')]['Table ID'].unique())"
   ]
  },
  {
   "cell_type": "code",
   "execution_count": null,
   "id": "eacbc2e9-1424-4f5e-a769-096d94871234",
   "metadata": {
    "tags": []
   },
   "outputs": [],
   "source": [
    "group"
   ]
  },
  {
   "cell_type": "code",
   "execution_count": 277,
   "id": "5700f8f2-4912-4773-bea9-b04ccddebc70",
   "metadata": {
    "tags": []
   },
   "outputs": [],
   "source": [
    "# different API call - all sex by age\n",
    "\n",
    "base_url = \"https://api.census.gov/data\"\n",
    "dataset = \"acs/acs5\"\n",
    "year = \"2019\"\n",
    "variables = group  # Population variable\n",
    "state = \"06\"  # California FIPS code\n",
    "county = \"073\"  # Los Angeles County FIPS code\n",
    "tract = \"*\"  # All tracts within the county\n",
    "api_key = \"84c7d937e5b6038afeb17bd5615eceef179ff9a3\"\n",
    "\n",
    "endpoint = f\"{base_url}/{year}/{dataset}?get=group(B02015)&for=tract:{tract}&in=state:{state}&in=county:{county}&key={api_key}\""
   ]
  },
  {
   "cell_type": "code",
   "execution_count": null,
   "id": "a70d363c-e885-4130-a500-722628c9db32",
   "metadata": {},
   "outputs": [],
   "source": [
    "## next adhere to geos "
   ]
  }
 ],
 "metadata": {
  "kernelspec": {
   "display_name": "Python 3 (ipykernel)",
   "language": "python",
   "name": "python3"
  },
  "language_info": {
   "codemirror_mode": {
    "name": "ipython",
    "version": 3
   },
   "file_extension": ".py",
   "mimetype": "text/x-python",
   "name": "python",
   "nbconvert_exporter": "python",
   "pygments_lexer": "ipython3",
   "version": "3.11.4"
  }
 },
 "nbformat": 4,
 "nbformat_minor": 5
}
