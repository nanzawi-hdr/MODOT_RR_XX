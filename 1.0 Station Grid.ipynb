{
 "cells": [
  {
   "cell_type": "code",
   "execution_count": 3,
   "id": "503d6c95-e7fe-4c1e-89cc-8570502547be",
   "metadata": {
    "tags": []
   },
   "outputs": [],
   "source": [
    "import datetime\n",
    "import json\n",
    "import requests\n",
    "import sys\n",
    "import time\n",
    "import geopandas\n",
    "from path import Path"
   ]
  },
  {
   "cell_type": "code",
   "execution_count": 4,
   "id": "c4772977-12a7-4841-bd4f-57b7474570c3",
   "metadata": {
    "tags": []
   },
   "outputs": [],
   "source": [
    "# path configuration\n",
    "working_directory = Path.getcwd()\n",
    "\n",
    "inputs_path = working_directory / 'inputs'\n",
    "outputs_path = working_directory / 'outputs'"
   ]
  },
  {
   "cell_type": "markdown",
   "id": "1ed341ee-3e55-4931-915b-31f30c42a147",
   "metadata": {},
   "source": [
    "### Initial Setup"
   ]
  },
  {
   "cell_type": "code",
   "execution_count": 5,
   "id": "170fee5b-ed3d-4508-9aec-2f2bae88db27",
   "metadata": {
    "tags": []
   },
   "outputs": [],
   "source": [
    "# Set StreetLight key and email\n",
    "StlKey = \"DgO7zCdYednFilSOR1dTX7jsmsdcoz31\"\n",
    "email = \"chris.ryan@hdrinc.com\""
   ]
  },
  {
   "cell_type": "code",
   "execution_count": 7,
   "id": "c1990bc4-5936-48e4-ac01-7d1a08db691d",
   "metadata": {
    "tags": []
   },
   "outputs": [],
   "source": [
    "now = datetime.datetime.utcnow().isoformat()"
   ]
  },
  {
   "cell_type": "code",
   "execution_count": 8,
   "id": "f6ee39ff-94ac-4ea2-acc8-3f5a3466eb4d",
   "metadata": {
    "tags": []
   },
   "outputs": [],
   "source": [
    "ZONE_SET_NAME = \"Two_Neighborhoods_{}\".format(now)\n",
    "ANALYSIS_NAME = \"OD_for_TN_{}\".format(now)\n",
    "\n",
    "\n",
    "def print_response(response):\n",
    "    print(\"response code: {}\".format(response.status_code))\n",
    "    print(\"response body: {}\".format(response.content))"
   ]
  },
  {
   "cell_type": "code",
   "execution_count": 10,
   "id": "8360719c-d8b0-4859-92af-b2e92e516f82",
   "metadata": {
    "tags": []
   },
   "outputs": [],
   "source": [
    "# ----------------------------------------------------------------------------------------\n",
    "# Create a Zone Set.\n",
    "# ----------------------------------------------------------------------------------------\n",
    "\n",
    "ZONE_SET_REQUEST = {\n",
    "    \"insight_login_email\": email,\n",
    "    \"zone_set_name\": ZONE_SET_NAME,\n",
    "    \"zones\": {\n",
    "        \"type\": \"FeatureCollection\",\n",
    "        \"features\": [\n",
    "            {\n",
    "                \"type\": \"Feature\",\n",
    "                \"properties\": {\n",
    "                    \"id\": 1,\n",
    "                    \"name\": \"Mission\",\n",
    "                    \"is_pass\": 0,\n",
    "                    \"direction\": None,\n",
    "                },\n",
    "                \"geometry\": {\n",
    "                    \"type\": \"MultiPolygon\",\n",
    "                    \"coordinates\": [\n",
    "                        [\n",
    "                            [\n",
    "                                [-122.426698258661972, 37.769562689936315],\n",
    "                                [-122.423394859041892, 37.772083876030344],\n",
    "                                [-122.42225575572462, 37.770418101996292],\n",
    "                                [-122.411206453547067, 37.769427623969634],\n",
    "                                [-122.406991771273155, 37.769067446852375],\n",
    "                                [-122.404656609472752, 37.767716767038294],\n",
    "                                [-122.405169205965521, 37.762628984940662],\n",
    "                                [-122.406593085112107, 37.760557752167074],\n",
    "                                [-122.405795712790038, 37.758441432691242],\n",
    "                                [-122.403232730326167, 37.75722564731312],\n",
    "                                [-122.402549268335804, 37.751821915004783],\n",
    "                                [-122.403346640657901, 37.749390106706535],\n",
    "                                [-122.407561322931784, 37.748399347080543],\n",
    "                                [-122.424875693354338, 37.74781389197571],\n",
    "                                [-122.426698258661972, 37.769562689936315],\n",
    "                            ]\n",
    "                        ]\n",
    "                    ],\n",
    "                },\n",
    "            },\n",
    "            {\n",
    "                \"type\": \"Feature\",\n",
    "                \"properties\": {\n",
    "                    \"id\": 2,\n",
    "                    \"name\": \"Financial District\",\n",
    "                    \"is_pass\": 1,\n",
    "                    \"direction\": None,\n",
    "                },\n",
    "                \"geometry\": {\n",
    "                    \"type\": \"MultiPolygon\",\n",
    "                    \"coordinates\": [\n",
    "                        [\n",
    "                            [\n",
    "                                [-122.405425504211919, 37.798033588378779],\n",
    "                                [-122.398476973976571, 37.798933675051543],\n",
    "                                [-122.396654408668923, 37.799698740100226],\n",
    "                                [-122.397024617247041, 37.79929370664977],\n",
    "                                [-122.396768319000643, 37.798911173018389],\n",
    "                                [-122.395828558763895, 37.797898574431919],\n",
    "                                [-122.393607307295227, 37.799113691070012],\n",
    "                                [-122.392610591892605, 37.797876072083447],\n",
    "                                [-122.394233814119715, 37.79690846455324],\n",
    "                                [-122.393037755636598, 37.795670808599994],\n",
    "                                [-122.3913575782436, 37.796278387822021],\n",
    "                                [-122.390987369665496, 37.795693311702443],\n",
    "                                [-122.392439726395011, 37.794500642185817],\n",
    "                                [-122.389278714689581, 37.791462623416393],\n",
    "                                [-122.401182344355107, 37.781965196242638],\n",
    "                                [-122.405824190372982, 37.785701296639232],\n",
    "                                [-122.406222876534017, 37.785723802695827],\n",
    "                                [-122.407134159187834, 37.790337399578668],\n",
    "                                [-122.404058580231194, 37.790764986655553],\n",
    "                                [-122.405425504211919, 37.798033588378779],\n",
    "                            ]\n",
    "                        ]\n",
    "                    ],\n",
    "                },\n",
    "            },\n",
    "        ],\n",
    "    },\n",
    "}\n"
   ]
  },
  {
   "cell_type": "code",
   "execution_count": 11,
   "id": "176778d9-e442-4da0-a147-83e69ff4366c",
   "metadata": {
    "tags": []
   },
   "outputs": [],
   "source": [
    "CREATE_ANALYSIS_REQUEST = {\n",
    "    \"insight_login_email\": email,\n",
    "    \"analysis_name\": ANALYSIS_NAME,\n",
    "    \"analysis_type\": \"OD_Analysis\",\n",
    "    \"travel_mode_type\": \"All_Vehicles_LBS_Plus\",\n",
    "    \"description\": \"\",\n",
    "    \"oz_sets\": [{\"name\": ZONE_SET_NAME}],\n",
    "    \"dz_sets\": [{\"name\": ZONE_SET_NAME}],\n",
    "    \"day_types\": \"All Days|17, Weekday|14, Weekend Day|67\",\n",
    "    \"day_parts\": \"All Day|0023, Early AM|0005, Peak AM|0609, Mid-Day|1014, Peak PM|1518, Late PM|1923\",\n",
    "    \"trip_attributes\": False,\n",
    "    \"traveler_attributes\": False,\n",
    "}"
   ]
  },
  {
   "cell_type": "code",
   "execution_count": 13,
   "id": "919be3df-0fef-41fa-8d86-2fafe2cb0af5",
   "metadata": {
    "tags": []
   },
   "outputs": [
    {
     "ename": "SSLError",
     "evalue": "HTTPSConnectionPool(host='insight.streetlightdata.com', port=443): Max retries exceeded with url: /api/v2/analyses (Caused by SSLError(SSLCertVerificationError(1, '[SSL: CERTIFICATE_VERIFY_FAILED] certificate verify failed: unable to get local issuer certificate (_ssl.c:1002)')))",
     "output_type": "error",
     "traceback": [
      "\u001b[1;31m---------------------------------------------------------------------------\u001b[0m",
      "\u001b[1;31mSSLCertVerificationError\u001b[0m                  Traceback (most recent call last)",
      "File \u001b[1;32m~\\AppData\\Local\\anaconda3\\Lib\\site-packages\\urllib3\\connectionpool.py:714\u001b[0m, in \u001b[0;36mHTTPConnectionPool.urlopen\u001b[1;34m(self, method, url, body, headers, retries, redirect, assert_same_host, timeout, pool_timeout, release_conn, chunked, body_pos, **response_kw)\u001b[0m\n\u001b[0;32m    713\u001b[0m \u001b[38;5;66;03m# Make the request on the httplib connection object.\u001b[39;00m\n\u001b[1;32m--> 714\u001b[0m httplib_response \u001b[38;5;241m=\u001b[39m \u001b[38;5;28mself\u001b[39m\u001b[38;5;241m.\u001b[39m_make_request(\n\u001b[0;32m    715\u001b[0m     conn,\n\u001b[0;32m    716\u001b[0m     method,\n\u001b[0;32m    717\u001b[0m     url,\n\u001b[0;32m    718\u001b[0m     timeout\u001b[38;5;241m=\u001b[39mtimeout_obj,\n\u001b[0;32m    719\u001b[0m     body\u001b[38;5;241m=\u001b[39mbody,\n\u001b[0;32m    720\u001b[0m     headers\u001b[38;5;241m=\u001b[39mheaders,\n\u001b[0;32m    721\u001b[0m     chunked\u001b[38;5;241m=\u001b[39mchunked,\n\u001b[0;32m    722\u001b[0m )\n\u001b[0;32m    724\u001b[0m \u001b[38;5;66;03m# If we're going to release the connection in ``finally:``, then\u001b[39;00m\n\u001b[0;32m    725\u001b[0m \u001b[38;5;66;03m# the response doesn't need to know about the connection. Otherwise\u001b[39;00m\n\u001b[0;32m    726\u001b[0m \u001b[38;5;66;03m# it will also try to release it and we'll have a double-release\u001b[39;00m\n\u001b[0;32m    727\u001b[0m \u001b[38;5;66;03m# mess.\u001b[39;00m\n",
      "File \u001b[1;32m~\\AppData\\Local\\anaconda3\\Lib\\site-packages\\urllib3\\connectionpool.py:403\u001b[0m, in \u001b[0;36mHTTPConnectionPool._make_request\u001b[1;34m(self, conn, method, url, timeout, chunked, **httplib_request_kw)\u001b[0m\n\u001b[0;32m    402\u001b[0m \u001b[38;5;28;01mtry\u001b[39;00m:\n\u001b[1;32m--> 403\u001b[0m     \u001b[38;5;28mself\u001b[39m\u001b[38;5;241m.\u001b[39m_validate_conn(conn)\n\u001b[0;32m    404\u001b[0m \u001b[38;5;28;01mexcept\u001b[39;00m (SocketTimeout, BaseSSLError) \u001b[38;5;28;01mas\u001b[39;00m e:\n\u001b[0;32m    405\u001b[0m     \u001b[38;5;66;03m# Py2 raises this as a BaseSSLError, Py3 raises it as socket timeout.\u001b[39;00m\n",
      "File \u001b[1;32m~\\AppData\\Local\\anaconda3\\Lib\\site-packages\\urllib3\\connectionpool.py:1053\u001b[0m, in \u001b[0;36mHTTPSConnectionPool._validate_conn\u001b[1;34m(self, conn)\u001b[0m\n\u001b[0;32m   1052\u001b[0m \u001b[38;5;28;01mif\u001b[39;00m \u001b[38;5;129;01mnot\u001b[39;00m \u001b[38;5;28mgetattr\u001b[39m(conn, \u001b[38;5;124m\"\u001b[39m\u001b[38;5;124msock\u001b[39m\u001b[38;5;124m\"\u001b[39m, \u001b[38;5;28;01mNone\u001b[39;00m):  \u001b[38;5;66;03m# AppEngine might not have  `.sock`\u001b[39;00m\n\u001b[1;32m-> 1053\u001b[0m     conn\u001b[38;5;241m.\u001b[39mconnect()\n\u001b[0;32m   1055\u001b[0m \u001b[38;5;28;01mif\u001b[39;00m \u001b[38;5;129;01mnot\u001b[39;00m conn\u001b[38;5;241m.\u001b[39mis_verified:\n",
      "File \u001b[1;32m~\\AppData\\Local\\anaconda3\\Lib\\site-packages\\urllib3\\connection.py:419\u001b[0m, in \u001b[0;36mHTTPSConnection.connect\u001b[1;34m(self)\u001b[0m\n\u001b[0;32m    417\u001b[0m     context\u001b[38;5;241m.\u001b[39mload_default_certs()\n\u001b[1;32m--> 419\u001b[0m \u001b[38;5;28mself\u001b[39m\u001b[38;5;241m.\u001b[39msock \u001b[38;5;241m=\u001b[39m ssl_wrap_socket(\n\u001b[0;32m    420\u001b[0m     sock\u001b[38;5;241m=\u001b[39mconn,\n\u001b[0;32m    421\u001b[0m     keyfile\u001b[38;5;241m=\u001b[39m\u001b[38;5;28mself\u001b[39m\u001b[38;5;241m.\u001b[39mkey_file,\n\u001b[0;32m    422\u001b[0m     certfile\u001b[38;5;241m=\u001b[39m\u001b[38;5;28mself\u001b[39m\u001b[38;5;241m.\u001b[39mcert_file,\n\u001b[0;32m    423\u001b[0m     key_password\u001b[38;5;241m=\u001b[39m\u001b[38;5;28mself\u001b[39m\u001b[38;5;241m.\u001b[39mkey_password,\n\u001b[0;32m    424\u001b[0m     ca_certs\u001b[38;5;241m=\u001b[39m\u001b[38;5;28mself\u001b[39m\u001b[38;5;241m.\u001b[39mca_certs,\n\u001b[0;32m    425\u001b[0m     ca_cert_dir\u001b[38;5;241m=\u001b[39m\u001b[38;5;28mself\u001b[39m\u001b[38;5;241m.\u001b[39mca_cert_dir,\n\u001b[0;32m    426\u001b[0m     ca_cert_data\u001b[38;5;241m=\u001b[39m\u001b[38;5;28mself\u001b[39m\u001b[38;5;241m.\u001b[39mca_cert_data,\n\u001b[0;32m    427\u001b[0m     server_hostname\u001b[38;5;241m=\u001b[39mserver_hostname,\n\u001b[0;32m    428\u001b[0m     ssl_context\u001b[38;5;241m=\u001b[39mcontext,\n\u001b[0;32m    429\u001b[0m     tls_in_tls\u001b[38;5;241m=\u001b[39mtls_in_tls,\n\u001b[0;32m    430\u001b[0m )\n\u001b[0;32m    432\u001b[0m \u001b[38;5;66;03m# If we're using all defaults and the connection\u001b[39;00m\n\u001b[0;32m    433\u001b[0m \u001b[38;5;66;03m# is TLSv1 or TLSv1.1 we throw a DeprecationWarning\u001b[39;00m\n\u001b[0;32m    434\u001b[0m \u001b[38;5;66;03m# for the host.\u001b[39;00m\n",
      "File \u001b[1;32m~\\AppData\\Local\\anaconda3\\Lib\\site-packages\\urllib3\\util\\ssl_.py:449\u001b[0m, in \u001b[0;36mssl_wrap_socket\u001b[1;34m(sock, keyfile, certfile, cert_reqs, ca_certs, server_hostname, ssl_version, ciphers, ssl_context, ca_cert_dir, key_password, ca_cert_data, tls_in_tls)\u001b[0m\n\u001b[0;32m    448\u001b[0m \u001b[38;5;28;01mif\u001b[39;00m send_sni:\n\u001b[1;32m--> 449\u001b[0m     ssl_sock \u001b[38;5;241m=\u001b[39m _ssl_wrap_socket_impl(\n\u001b[0;32m    450\u001b[0m         sock, context, tls_in_tls, server_hostname\u001b[38;5;241m=\u001b[39mserver_hostname\n\u001b[0;32m    451\u001b[0m     )\n\u001b[0;32m    452\u001b[0m \u001b[38;5;28;01melse\u001b[39;00m:\n",
      "File \u001b[1;32m~\\AppData\\Local\\anaconda3\\Lib\\site-packages\\urllib3\\util\\ssl_.py:493\u001b[0m, in \u001b[0;36m_ssl_wrap_socket_impl\u001b[1;34m(sock, ssl_context, tls_in_tls, server_hostname)\u001b[0m\n\u001b[0;32m    492\u001b[0m \u001b[38;5;28;01mif\u001b[39;00m server_hostname:\n\u001b[1;32m--> 493\u001b[0m     \u001b[38;5;28;01mreturn\u001b[39;00m ssl_context\u001b[38;5;241m.\u001b[39mwrap_socket(sock, server_hostname\u001b[38;5;241m=\u001b[39mserver_hostname)\n\u001b[0;32m    494\u001b[0m \u001b[38;5;28;01melse\u001b[39;00m:\n",
      "File \u001b[1;32m~\\AppData\\Local\\anaconda3\\Lib\\ssl.py:517\u001b[0m, in \u001b[0;36mSSLContext.wrap_socket\u001b[1;34m(self, sock, server_side, do_handshake_on_connect, suppress_ragged_eofs, server_hostname, session)\u001b[0m\n\u001b[0;32m    511\u001b[0m \u001b[38;5;28;01mdef\u001b[39;00m \u001b[38;5;21mwrap_socket\u001b[39m(\u001b[38;5;28mself\u001b[39m, sock, server_side\u001b[38;5;241m=\u001b[39m\u001b[38;5;28;01mFalse\u001b[39;00m,\n\u001b[0;32m    512\u001b[0m                 do_handshake_on_connect\u001b[38;5;241m=\u001b[39m\u001b[38;5;28;01mTrue\u001b[39;00m,\n\u001b[0;32m    513\u001b[0m                 suppress_ragged_eofs\u001b[38;5;241m=\u001b[39m\u001b[38;5;28;01mTrue\u001b[39;00m,\n\u001b[0;32m    514\u001b[0m                 server_hostname\u001b[38;5;241m=\u001b[39m\u001b[38;5;28;01mNone\u001b[39;00m, session\u001b[38;5;241m=\u001b[39m\u001b[38;5;28;01mNone\u001b[39;00m):\n\u001b[0;32m    515\u001b[0m     \u001b[38;5;66;03m# SSLSocket class handles server_hostname encoding before it calls\u001b[39;00m\n\u001b[0;32m    516\u001b[0m     \u001b[38;5;66;03m# ctx._wrap_socket()\u001b[39;00m\n\u001b[1;32m--> 517\u001b[0m     \u001b[38;5;28;01mreturn\u001b[39;00m \u001b[38;5;28mself\u001b[39m\u001b[38;5;241m.\u001b[39msslsocket_class\u001b[38;5;241m.\u001b[39m_create(\n\u001b[0;32m    518\u001b[0m         sock\u001b[38;5;241m=\u001b[39msock,\n\u001b[0;32m    519\u001b[0m         server_side\u001b[38;5;241m=\u001b[39mserver_side,\n\u001b[0;32m    520\u001b[0m         do_handshake_on_connect\u001b[38;5;241m=\u001b[39mdo_handshake_on_connect,\n\u001b[0;32m    521\u001b[0m         suppress_ragged_eofs\u001b[38;5;241m=\u001b[39msuppress_ragged_eofs,\n\u001b[0;32m    522\u001b[0m         server_hostname\u001b[38;5;241m=\u001b[39mserver_hostname,\n\u001b[0;32m    523\u001b[0m         context\u001b[38;5;241m=\u001b[39m\u001b[38;5;28mself\u001b[39m,\n\u001b[0;32m    524\u001b[0m         session\u001b[38;5;241m=\u001b[39msession\n\u001b[0;32m    525\u001b[0m     )\n",
      "File \u001b[1;32m~\\AppData\\Local\\anaconda3\\Lib\\ssl.py:1075\u001b[0m, in \u001b[0;36mSSLSocket._create\u001b[1;34m(cls, sock, server_side, do_handshake_on_connect, suppress_ragged_eofs, server_hostname, context, session)\u001b[0m\n\u001b[0;32m   1074\u001b[0m             \u001b[38;5;28;01mraise\u001b[39;00m \u001b[38;5;167;01mValueError\u001b[39;00m(\u001b[38;5;124m\"\u001b[39m\u001b[38;5;124mdo_handshake_on_connect should not be specified for non-blocking sockets\u001b[39m\u001b[38;5;124m\"\u001b[39m)\n\u001b[1;32m-> 1075\u001b[0m         \u001b[38;5;28mself\u001b[39m\u001b[38;5;241m.\u001b[39mdo_handshake()\n\u001b[0;32m   1076\u001b[0m \u001b[38;5;28;01mexcept\u001b[39;00m (\u001b[38;5;167;01mOSError\u001b[39;00m, \u001b[38;5;167;01mValueError\u001b[39;00m):\n",
      "File \u001b[1;32m~\\AppData\\Local\\anaconda3\\Lib\\ssl.py:1346\u001b[0m, in \u001b[0;36mSSLSocket.do_handshake\u001b[1;34m(self, block)\u001b[0m\n\u001b[0;32m   1345\u001b[0m         \u001b[38;5;28mself\u001b[39m\u001b[38;5;241m.\u001b[39msettimeout(\u001b[38;5;28;01mNone\u001b[39;00m)\n\u001b[1;32m-> 1346\u001b[0m     \u001b[38;5;28mself\u001b[39m\u001b[38;5;241m.\u001b[39m_sslobj\u001b[38;5;241m.\u001b[39mdo_handshake()\n\u001b[0;32m   1347\u001b[0m \u001b[38;5;28;01mfinally\u001b[39;00m:\n",
      "\u001b[1;31mSSLCertVerificationError\u001b[0m: [SSL: CERTIFICATE_VERIFY_FAILED] certificate verify failed: unable to get local issuer certificate (_ssl.c:1002)",
      "\nDuring handling of the above exception, another exception occurred:\n",
      "\u001b[1;31mMaxRetryError\u001b[0m                             Traceback (most recent call last)",
      "File \u001b[1;32m~\\AppData\\Local\\anaconda3\\Lib\\site-packages\\requests\\adapters.py:486\u001b[0m, in \u001b[0;36mHTTPAdapter.send\u001b[1;34m(self, request, stream, timeout, verify, cert, proxies)\u001b[0m\n\u001b[0;32m    485\u001b[0m \u001b[38;5;28;01mtry\u001b[39;00m:\n\u001b[1;32m--> 486\u001b[0m     resp \u001b[38;5;241m=\u001b[39m conn\u001b[38;5;241m.\u001b[39murlopen(\n\u001b[0;32m    487\u001b[0m         method\u001b[38;5;241m=\u001b[39mrequest\u001b[38;5;241m.\u001b[39mmethod,\n\u001b[0;32m    488\u001b[0m         url\u001b[38;5;241m=\u001b[39murl,\n\u001b[0;32m    489\u001b[0m         body\u001b[38;5;241m=\u001b[39mrequest\u001b[38;5;241m.\u001b[39mbody,\n\u001b[0;32m    490\u001b[0m         headers\u001b[38;5;241m=\u001b[39mrequest\u001b[38;5;241m.\u001b[39mheaders,\n\u001b[0;32m    491\u001b[0m         redirect\u001b[38;5;241m=\u001b[39m\u001b[38;5;28;01mFalse\u001b[39;00m,\n\u001b[0;32m    492\u001b[0m         assert_same_host\u001b[38;5;241m=\u001b[39m\u001b[38;5;28;01mFalse\u001b[39;00m,\n\u001b[0;32m    493\u001b[0m         preload_content\u001b[38;5;241m=\u001b[39m\u001b[38;5;28;01mFalse\u001b[39;00m,\n\u001b[0;32m    494\u001b[0m         decode_content\u001b[38;5;241m=\u001b[39m\u001b[38;5;28;01mFalse\u001b[39;00m,\n\u001b[0;32m    495\u001b[0m         retries\u001b[38;5;241m=\u001b[39m\u001b[38;5;28mself\u001b[39m\u001b[38;5;241m.\u001b[39mmax_retries,\n\u001b[0;32m    496\u001b[0m         timeout\u001b[38;5;241m=\u001b[39mtimeout,\n\u001b[0;32m    497\u001b[0m         chunked\u001b[38;5;241m=\u001b[39mchunked,\n\u001b[0;32m    498\u001b[0m     )\n\u001b[0;32m    500\u001b[0m \u001b[38;5;28;01mexcept\u001b[39;00m (ProtocolError, \u001b[38;5;167;01mOSError\u001b[39;00m) \u001b[38;5;28;01mas\u001b[39;00m err:\n",
      "File \u001b[1;32m~\\AppData\\Local\\anaconda3\\Lib\\site-packages\\urllib3\\connectionpool.py:798\u001b[0m, in \u001b[0;36mHTTPConnectionPool.urlopen\u001b[1;34m(self, method, url, body, headers, retries, redirect, assert_same_host, timeout, pool_timeout, release_conn, chunked, body_pos, **response_kw)\u001b[0m\n\u001b[0;32m    796\u001b[0m     e \u001b[38;5;241m=\u001b[39m ProtocolError(\u001b[38;5;124m\"\u001b[39m\u001b[38;5;124mConnection aborted.\u001b[39m\u001b[38;5;124m\"\u001b[39m, e)\n\u001b[1;32m--> 798\u001b[0m retries \u001b[38;5;241m=\u001b[39m retries\u001b[38;5;241m.\u001b[39mincrement(\n\u001b[0;32m    799\u001b[0m     method, url, error\u001b[38;5;241m=\u001b[39me, _pool\u001b[38;5;241m=\u001b[39m\u001b[38;5;28mself\u001b[39m, _stacktrace\u001b[38;5;241m=\u001b[39msys\u001b[38;5;241m.\u001b[39mexc_info()[\u001b[38;5;241m2\u001b[39m]\n\u001b[0;32m    800\u001b[0m )\n\u001b[0;32m    801\u001b[0m retries\u001b[38;5;241m.\u001b[39msleep()\n",
      "File \u001b[1;32m~\\AppData\\Local\\anaconda3\\Lib\\site-packages\\urllib3\\util\\retry.py:592\u001b[0m, in \u001b[0;36mRetry.increment\u001b[1;34m(self, method, url, response, error, _pool, _stacktrace)\u001b[0m\n\u001b[0;32m    591\u001b[0m \u001b[38;5;28;01mif\u001b[39;00m new_retry\u001b[38;5;241m.\u001b[39mis_exhausted():\n\u001b[1;32m--> 592\u001b[0m     \u001b[38;5;28;01mraise\u001b[39;00m MaxRetryError(_pool, url, error \u001b[38;5;129;01mor\u001b[39;00m ResponseError(cause))\n\u001b[0;32m    594\u001b[0m log\u001b[38;5;241m.\u001b[39mdebug(\u001b[38;5;124m\"\u001b[39m\u001b[38;5;124mIncremented Retry for (url=\u001b[39m\u001b[38;5;124m'\u001b[39m\u001b[38;5;132;01m%s\u001b[39;00m\u001b[38;5;124m'\u001b[39m\u001b[38;5;124m): \u001b[39m\u001b[38;5;132;01m%r\u001b[39;00m\u001b[38;5;124m\"\u001b[39m, url, new_retry)\n",
      "\u001b[1;31mMaxRetryError\u001b[0m: HTTPSConnectionPool(host='insight.streetlightdata.com', port=443): Max retries exceeded with url: /api/v2/analyses (Caused by SSLError(SSLCertVerificationError(1, '[SSL: CERTIFICATE_VERIFY_FAILED] certificate verify failed: unable to get local issuer certificate (_ssl.c:1002)')))",
      "\nDuring handling of the above exception, another exception occurred:\n",
      "\u001b[1;31mSSLError\u001b[0m                                  Traceback (most recent call last)",
      "Cell \u001b[1;32mIn[13], line 1\u001b[0m\n\u001b[1;32m----> 1\u001b[0m resp \u001b[38;5;241m=\u001b[39m requests\u001b[38;5;241m.\u001b[39mpost(\n\u001b[0;32m      2\u001b[0m     \u001b[38;5;124m\"\u001b[39m\u001b[38;5;124mhttps://insight.streetlightdata.com/api/v2/analyses\u001b[39m\u001b[38;5;124m\"\u001b[39m,\n\u001b[0;32m      3\u001b[0m     headers\u001b[38;5;241m=\u001b[39m{\u001b[38;5;124m\"\u001b[39m\u001b[38;5;124mcontent-type\u001b[39m\u001b[38;5;124m\"\u001b[39m: \u001b[38;5;124m\"\u001b[39m\u001b[38;5;124mapplication/json\u001b[39m\u001b[38;5;124m\"\u001b[39m, \u001b[38;5;124m\"\u001b[39m\u001b[38;5;124mx-stl-key\u001b[39m\u001b[38;5;124m\"\u001b[39m: StlKey},\n\u001b[0;32m      4\u001b[0m     data\u001b[38;5;241m=\u001b[39mjson\u001b[38;5;241m.\u001b[39mdumps(CREATE_ANALYSIS_REQUEST),\n\u001b[0;32m      5\u001b[0m )\n\u001b[0;32m      7\u001b[0m print_response(resp)\n\u001b[0;32m      9\u001b[0m \u001b[38;5;28;01mif\u001b[39;00m resp\u001b[38;5;241m.\u001b[39mstatus_code \u001b[38;5;241m==\u001b[39m \u001b[38;5;241m201\u001b[39m:\n",
      "File \u001b[1;32m~\\AppData\\Local\\anaconda3\\Lib\\site-packages\\requests\\api.py:115\u001b[0m, in \u001b[0;36mpost\u001b[1;34m(url, data, json, **kwargs)\u001b[0m\n\u001b[0;32m    103\u001b[0m \u001b[38;5;28;01mdef\u001b[39;00m \u001b[38;5;21mpost\u001b[39m(url, data\u001b[38;5;241m=\u001b[39m\u001b[38;5;28;01mNone\u001b[39;00m, json\u001b[38;5;241m=\u001b[39m\u001b[38;5;28;01mNone\u001b[39;00m, \u001b[38;5;241m*\u001b[39m\u001b[38;5;241m*\u001b[39mkwargs):\n\u001b[0;32m    104\u001b[0m \u001b[38;5;250m    \u001b[39m\u001b[38;5;124mr\u001b[39m\u001b[38;5;124;03m\"\"\"Sends a POST request.\u001b[39;00m\n\u001b[0;32m    105\u001b[0m \n\u001b[0;32m    106\u001b[0m \u001b[38;5;124;03m    :param url: URL for the new :class:`Request` object.\u001b[39;00m\n\u001b[1;32m   (...)\u001b[0m\n\u001b[0;32m    112\u001b[0m \u001b[38;5;124;03m    :rtype: requests.Response\u001b[39;00m\n\u001b[0;32m    113\u001b[0m \u001b[38;5;124;03m    \"\"\"\u001b[39;00m\n\u001b[1;32m--> 115\u001b[0m     \u001b[38;5;28;01mreturn\u001b[39;00m request(\u001b[38;5;124m\"\u001b[39m\u001b[38;5;124mpost\u001b[39m\u001b[38;5;124m\"\u001b[39m, url, data\u001b[38;5;241m=\u001b[39mdata, json\u001b[38;5;241m=\u001b[39mjson, \u001b[38;5;241m*\u001b[39m\u001b[38;5;241m*\u001b[39mkwargs)\n",
      "File \u001b[1;32m~\\AppData\\Local\\anaconda3\\Lib\\site-packages\\requests\\api.py:59\u001b[0m, in \u001b[0;36mrequest\u001b[1;34m(method, url, **kwargs)\u001b[0m\n\u001b[0;32m     55\u001b[0m \u001b[38;5;66;03m# By using the 'with' statement we are sure the session is closed, thus we\u001b[39;00m\n\u001b[0;32m     56\u001b[0m \u001b[38;5;66;03m# avoid leaving sockets open which can trigger a ResourceWarning in some\u001b[39;00m\n\u001b[0;32m     57\u001b[0m \u001b[38;5;66;03m# cases, and look like a memory leak in others.\u001b[39;00m\n\u001b[0;32m     58\u001b[0m \u001b[38;5;28;01mwith\u001b[39;00m sessions\u001b[38;5;241m.\u001b[39mSession() \u001b[38;5;28;01mas\u001b[39;00m session:\n\u001b[1;32m---> 59\u001b[0m     \u001b[38;5;28;01mreturn\u001b[39;00m session\u001b[38;5;241m.\u001b[39mrequest(method\u001b[38;5;241m=\u001b[39mmethod, url\u001b[38;5;241m=\u001b[39murl, \u001b[38;5;241m*\u001b[39m\u001b[38;5;241m*\u001b[39mkwargs)\n",
      "File \u001b[1;32m~\\AppData\\Local\\anaconda3\\Lib\\site-packages\\requests\\sessions.py:589\u001b[0m, in \u001b[0;36mSession.request\u001b[1;34m(self, method, url, params, data, headers, cookies, files, auth, timeout, allow_redirects, proxies, hooks, stream, verify, cert, json)\u001b[0m\n\u001b[0;32m    584\u001b[0m send_kwargs \u001b[38;5;241m=\u001b[39m {\n\u001b[0;32m    585\u001b[0m     \u001b[38;5;124m\"\u001b[39m\u001b[38;5;124mtimeout\u001b[39m\u001b[38;5;124m\"\u001b[39m: timeout,\n\u001b[0;32m    586\u001b[0m     \u001b[38;5;124m\"\u001b[39m\u001b[38;5;124mallow_redirects\u001b[39m\u001b[38;5;124m\"\u001b[39m: allow_redirects,\n\u001b[0;32m    587\u001b[0m }\n\u001b[0;32m    588\u001b[0m send_kwargs\u001b[38;5;241m.\u001b[39mupdate(settings)\n\u001b[1;32m--> 589\u001b[0m resp \u001b[38;5;241m=\u001b[39m \u001b[38;5;28mself\u001b[39m\u001b[38;5;241m.\u001b[39msend(prep, \u001b[38;5;241m*\u001b[39m\u001b[38;5;241m*\u001b[39msend_kwargs)\n\u001b[0;32m    591\u001b[0m \u001b[38;5;28;01mreturn\u001b[39;00m resp\n",
      "File \u001b[1;32m~\\AppData\\Local\\anaconda3\\Lib\\site-packages\\requests\\sessions.py:703\u001b[0m, in \u001b[0;36mSession.send\u001b[1;34m(self, request, **kwargs)\u001b[0m\n\u001b[0;32m    700\u001b[0m start \u001b[38;5;241m=\u001b[39m preferred_clock()\n\u001b[0;32m    702\u001b[0m \u001b[38;5;66;03m# Send the request\u001b[39;00m\n\u001b[1;32m--> 703\u001b[0m r \u001b[38;5;241m=\u001b[39m adapter\u001b[38;5;241m.\u001b[39msend(request, \u001b[38;5;241m*\u001b[39m\u001b[38;5;241m*\u001b[39mkwargs)\n\u001b[0;32m    705\u001b[0m \u001b[38;5;66;03m# Total elapsed time of the request (approximately)\u001b[39;00m\n\u001b[0;32m    706\u001b[0m elapsed \u001b[38;5;241m=\u001b[39m preferred_clock() \u001b[38;5;241m-\u001b[39m start\n",
      "File \u001b[1;32m~\\AppData\\Local\\anaconda3\\Lib\\site-packages\\requests\\adapters.py:517\u001b[0m, in \u001b[0;36mHTTPAdapter.send\u001b[1;34m(self, request, stream, timeout, verify, cert, proxies)\u001b[0m\n\u001b[0;32m    513\u001b[0m         \u001b[38;5;28;01mraise\u001b[39;00m ProxyError(e, request\u001b[38;5;241m=\u001b[39mrequest)\n\u001b[0;32m    515\u001b[0m     \u001b[38;5;28;01mif\u001b[39;00m \u001b[38;5;28misinstance\u001b[39m(e\u001b[38;5;241m.\u001b[39mreason, _SSLError):\n\u001b[0;32m    516\u001b[0m         \u001b[38;5;66;03m# This branch is for urllib3 v1.22 and later.\u001b[39;00m\n\u001b[1;32m--> 517\u001b[0m         \u001b[38;5;28;01mraise\u001b[39;00m SSLError(e, request\u001b[38;5;241m=\u001b[39mrequest)\n\u001b[0;32m    519\u001b[0m     \u001b[38;5;28;01mraise\u001b[39;00m \u001b[38;5;167;01mConnectionError\u001b[39;00m(e, request\u001b[38;5;241m=\u001b[39mrequest)\n\u001b[0;32m    521\u001b[0m \u001b[38;5;28;01mexcept\u001b[39;00m ClosedPoolError \u001b[38;5;28;01mas\u001b[39;00m e:\n",
      "\u001b[1;31mSSLError\u001b[0m: HTTPSConnectionPool(host='insight.streetlightdata.com', port=443): Max retries exceeded with url: /api/v2/analyses (Caused by SSLError(SSLCertVerificationError(1, '[SSL: CERTIFICATE_VERIFY_FAILED] certificate verify failed: unable to get local issuer certificate (_ssl.c:1002)')))"
     ]
    }
   ],
   "source": [
    "resp = requests.post(\n",
    "    \"https://insight.streetlightdata.com/api/v2/analyses\",\n",
    "    headers={\"content-type\": \"application/json\", \"x-stl-key\": StlKey},\n",
    "    data=json.dumps(CREATE_ANALYSIS_REQUEST),\n",
    ")\n",
    "\n",
    "print_response(resp)\n",
    "\n",
    "if resp.status_code == 201:\n",
    "    print(\"Created Analysis successfully.\")\n",
    "else:\n",
    "    print(\"Error creating Analysis.\")\n",
    "    sys.exit(1)"
   ]
  },
  {
   "cell_type": "code",
   "execution_count": null,
   "id": "3c5d30af-04de-49f6-8baa-af2ee1b868ab",
   "metadata": {},
   "outputs": [],
   "source": [
    "# Set tmap_mode (if needed)\n",
    "# tmap_mode(\"view\")\n",
    "\n",
    "proj = 6595\n",
    "\n",
    "bufferSize = 5280 * 3\n",
    "gridSize = 5280 * 0.33\n",
    "\n",
    "# Read in shapefiles for stationPoints and stationArea\n",
    "stationPoints = gpd.read_file(\"shape/stationPoints.shp\")\n",
    "stationPoints = stationPoints.to_crs(epsg=proj)\n",
    "stationPoints = stationPoints.sort_values(by=\"name\")\n",
    "\n",
    "stationArea = gpd.read_file(\"shape/RailStationAreas.shp\")\n",
    "stationArea = stationArea.to_crs(epsg=proj)\n",
    "stationArea = stationArea[[\"PropName\"]].rename(columns={\"PropName\": \"name\"})\n",
    "stationArea = gpd.sjoin(stationPoints, stationArea, op=\"within\")[[\"name\", \"type\"]]\n",
    "stationArea = stationArea.sort_values(by=\"name\")\n",
    "\n",
    "# Map check\n",
    "basemaps = [\"CartoDB.Positron\", \"OpenStreetMap.Mapnik\", \"Esri.WorldImagery\"]\n",
    "stationArea.plot(color=\"orange\", alpha=0.5)\n",
    "stationPoints.plot(column=\"type\", legend=True, cmap=\"Set1\")\n",
    "\n",
    "# NOTE: Confirm that both GeoDataFrames have the same number of locations and are in the same order for 'name'\n",
    "(stationPoints[\"name\"] == stationArea[\"name\"]).all()\n"
   ]
  },
  {
   "cell_type": "markdown",
   "id": "021ba3e1-33a6-4a0f-ae76-455e545a6364",
   "metadata": {
    "tags": []
   },
   "source": [
    "### Define each zone"
   ]
  },
  {
   "cell_type": "code",
   "execution_count": null,
   "id": "cbc00629-67c5-4987-be8d-2611cf15ae06",
   "metadata": {},
   "outputs": [],
   "source": [
    "# Create StL Zone Sets ----------------------------------------------------\n",
    "\n",
    "# Create Station Area Zones\n",
    "stationArea_ZS = stationArea[[\"name\"]].copy()\n",
    "stationArea_ZS[\"id\"] = range(1, len(stationArea_ZS) + 1)\n",
    "stationArea_ZS[\"is_pass\"] = 0\n",
    "stationArea_ZS[\"direction\"] = None\n",
    "stationArea_ZS = stationArea_ZS.to_crs(epsg=4326)\n",
    "stationArea_ZS = stationArea_ZS.set_z(0)\n"
   ]
  },
  {
   "cell_type": "code",
   "execution_count": null,
   "id": "2037bf7b-941d-4cdd-9ced-f3d7d4ada507",
   "metadata": {},
   "outputs": [],
   "source": [
    "# Convert to JSON\n",
    "zone_set_name = \"StationAreas2021-09-17\"\n",
    "zones = json.loads(stationArea_ZS.to_json())\n",
    "\n",
    "body = {\n",
    "    \"insight_login_email\": email,\n",
    "    \"geom_type\": \"polygon\",\n",
    "    \"zone_set_name\": zone_set_name,\n",
    "    \"zones\": zones\n",
    "}\n",
    "\n",
    "# Convert to final JSON file\n",
    "bodyJSON = json.dumps(body)"
   ]
  },
  {
   "cell_type": "code",
   "execution_count": null,
   "id": "5297d949-8307-4379-a211-a8aaddcc4868",
   "metadata": {},
   "outputs": [],
   "source": [
    "# API call to create Zone Set\n",
    "def api_call(url, data):\n",
    "    headers = {\"Content-Type\": \"application/json\"}\n",
    "    response = requests.post(url, headers=headers, json=data)\n",
    "    response.raise_for_status()\n",
    "    return response\n",
    "\n",
    "url = f\"https://insight.streetlightdata.com/api/v2/zone_sets?key={StlKey}\"\n",
    "api_call(url, bodyJSON)"
   ]
  },
  {
   "cell_type": "code",
   "execution_count": null,
   "id": "9f6467b8-5135-4b5f-9edc-b36a6a302214",
   "metadata": {},
   "outputs": [],
   "source": [
    "# Loop to create hex grid zone set for each station area\n",
    "allGrid = pd.concat([\n",
    "    buffer[buffer.sindex.query(buffer, predicate=\"intersects\")]\n",
    "    .difference(stationArea.loc[_][\"geometry\"])\n",
    "    .rename(columns={\"geometry\": \"name\"})\n",
    "    .reset_index(drop=True)\n",
    "    .assign(id=range(1, len(grid) + 1), is_pass=0, direction=None)\n",
    "    .set_z(0)\n",
    "    for _, station in stationPoints.iterrows()\n",
    "], ignore_index=True)\n",
    "\n",
    "# Convert to JSON and make API call to create Zone Set\n",
    "for _, station in stationPoints.iterrows():\n",
    "    buffer = station.geometry.buffer(bufferSize)\n",
    "    grid = buffer[buffer.sindex.query(buffer, predicate=\"intersects\")]\n",
    "    grid = grid.difference(stationArea.loc[_][\"geometry\"])\n",
    "    grid = grid.rename(columns={\"geometry\": \"name\"}).reset_index(drop=True)\n",
    "    grid[\"id\"] = range(1, len(grid) + 1)\n",
    "    grid[\"is_pass\"] = 0\n",
    "    grid[\"direction\"] = None\n",
    "    grid = grid.set_z(0)\n",
    "\n",
    "    allGrid = allGrid.append(grid)\n",
    "\n",
    "    zone_set_name = station[\"name\"] + str(grid[\"id\"].iloc[0])\n",
    "    zones = grid.to_dict(orient='records')\n",
    "\n",
    "    body = {\n",
    "        \"insight_login_email\": email,\n",
    "        \"geom_type\": \"polygon\",\n",
    "        \"zone_set_name\": zone_set_name,\n",
    "        \"zones\": zones\n",
    "    }\n",
    "\n",
    "    url = f\"https://insight.streetlightdata.com/api/v2/zone_sets?key={StlKey}\"\n",
    "    response = requests.post(url, json=body)\n",
    "\n",
    "allGrid.plot(alpha=0.5)\n",
    "\n",
    "# Save data for Step 2.0\n",
    "allGrid.to_file(\"shape/stationArea.geojson\", driver=\"GeoJSON\")"
   ]
  }
 ],
 "metadata": {
  "kernelspec": {
   "display_name": "Python 3 (ipykernel)",
   "language": "python",
   "name": "python3"
  },
  "language_info": {
   "codemirror_mode": {
    "name": "ipython",
    "version": 3
   },
   "file_extension": ".py",
   "mimetype": "text/x-python",
   "name": "python",
   "nbconvert_exporter": "python",
   "pygments_lexer": "ipython3",
   "version": "3.11.4"
  }
 },
 "nbformat": 4,
 "nbformat_minor": 5
}
