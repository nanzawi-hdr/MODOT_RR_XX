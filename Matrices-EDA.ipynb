{
 "cells": [
  {
   "cell_type": "code",
   "execution_count": 1,
   "id": "eb32e8c8-4691-4509-b434-3067480f2066",
   "metadata": {
    "tags": []
   },
   "outputs": [],
   "source": [
    "import janitor\n",
    "import pandas\n",
    "import geopandas\n",
    "from path import Path\n",
    "import os\n",
    "import numpy\n",
    "import sys\n",
    "import re\n",
    "from functools import reduce\n",
    "import matplotlib.pyplot as plt\n",
    "from shapely.geometry import Point, Polygon\n",
    "import seaborn as sns\n",
    "import random"
   ]
  },
  {
   "cell_type": "code",
   "execution_count": 2,
   "id": "da78dac3-9780-4e8b-906f-7be284786b6c",
   "metadata": {
    "tags": []
   },
   "outputs": [],
   "source": [
    "# path configuration\n",
    "working_directory = Path.getcwd()\n",
    "\n",
    "inputs_path = working_directory / 'inputs'\n",
    "outputs_path = working_directory / 'outputs'"
   ]
  },
  {
   "cell_type": "markdown",
   "id": "33d82d92-18d4-4c3c-a245-6229bc48f876",
   "metadata": {},
   "source": [
    "## Simulated traffic flows - get II, IE, EI, EE"
   ]
  },
  {
   "cell_type": "markdown",
   "id": "5df61b2e-fc5d-41d5-9861-aeb4ec7ae99e",
   "metadata": {},
   "source": [
    "### Get Corridors\n",
    "\n",
    "\n",
    "\n"
   ]
  },
  {
   "cell_type": "code",
   "execution_count": 42,
   "id": "1d38af44-e8be-48d3-83d9-c3e98968c1b2",
   "metadata": {
    "tags": []
   },
   "outputs": [],
   "source": [
    "# Define the number of corridors\n",
    "num_corridors = 15"
   ]
  },
  {
   "cell_type": "code",
   "execution_count": 43,
   "id": "2b07c0bf-9440-4a02-a510-97db42bbcfdb",
   "metadata": {
    "tags": []
   },
   "outputs": [],
   "source": [
    "# Create an empty matrix for all day traffic from corridors to corridors\n",
    "all_day_cc_matrix = np.zeros((num_corridors, num_corridors))\n",
    "\n",
    "# Simulated traffic flows (replace with your actual data or estimation method)\n",
    "for i in range(num_corridors):\n",
    "    for j in range(num_corridors):\n",
    "        # Replace this with your traffic data or estimation method\n",
    "        traffic_flow = random.randint(0, 100)  # Random traffic flow for illustration\n",
    "        all_day_cc_matrix[i, j] = traffic_flow"
   ]
  },
  {
   "cell_type": "code",
   "execution_count": null,
   "id": "2f295ffb-7f84-4c79-91c3-156c614b4ce4",
   "metadata": {
    "tags": []
   },
   "outputs": [],
   "source": [
    "# Convert the NumPy matrix to a DataFrame\n",
    "all_day_cc_matrix_df = pd.DataFrame(all_day_cc_matrix)\n",
    "\n",
    "# Optionally, you can set row and column names to make it more informative\n",
    "corridor_names = [f\"Corridor {i+1}\" for i in range(num_corridors)]\n",
    "all_day_cc_matrix_df.columns = corridor_names\n",
    "all_day_cc_matrix_df.index = corridor_names\n",
    "\n",
    "# Print the DataFrame\n",
    "all_day_cc_matrix_df"
   ]
  },
  {
   "cell_type": "markdown",
   "id": "c4ee81a1-d90d-447d-bb3c-ea45d5f6c994",
   "metadata": {},
   "source": [
    "### Get nodes"
   ]
  },
  {
   "cell_type": "code",
   "execution_count": 39,
   "id": "b542c44a-ab30-46f7-8b33-13379641985a",
   "metadata": {
    "tags": []
   },
   "outputs": [],
   "source": [
    "# Define the number of nodes and corridors\n",
    "num_nodes = 15"
   ]
  },
  {
   "cell_type": "code",
   "execution_count": 40,
   "id": "61f2286c-81b6-4571-9f76-ee5333dfffda",
   "metadata": {
    "tags": []
   },
   "outputs": [],
   "source": [
    "# Create an empty matrix for all day traffic from nodes to nodes\n",
    "all_day_node_matrix = np.zeros((num_nodes, num_nodes))\n",
    "\n",
    "# Simulated traffic flows (replace with your actual data or estimation method)\n",
    "for i in range(num_nodes):\n",
    "    for j in range(num_nodes):\n",
    "        # Replace this with your traffic data or estimation method\n",
    "        traffic_flow = random.randint(0, 100)  # Random traffic flow for illustration\n",
    "        all_day_node_matrix[i, j] = traffic_flow"
   ]
  },
  {
   "cell_type": "code",
   "execution_count": null,
   "id": "b3a67559-a425-4e04-a315-c9fc8da93bf4",
   "metadata": {},
   "outputs": [],
   "source": [
    "# Create an empty matrix for all day traffic from nodes to nodes\n",
    "all_day_node_matrix = np.zeros((num_nodes, num_nodes))\n",
    "\n",
    "# Simulated traffic flows (replace with your actual data or estimation method)\n",
    "for i in range(num_nodes):\n",
    "    for j in range(num_nodes):\n",
    "        # Replace this with your traffic data or estimation method\n",
    "        traffic_flow = random.randint(0, 100)  # Random traffic flow for illustration\n",
    "        all_day_node_matrix[i, j] = traffic_flow\n",
    "        \n",
    "# Assuming you already have all_day_nodes_to_nodes_matrix defined\n",
    "\n",
    "# Convert the NumPy matrix to a DataFrame\n",
    "all_day_nodes_to_nodes_df = pd.DataFrame(all_day_node_matrix)\n",
    "\n",
    "# Optionally, you can set row and column names to make it more informative\n",
    "node_names = [f\"Node {i+1}\" for i in range(num_nodes)]\n",
    "all_day_nodes_to_nodes_df.columns = node_names\n",
    "all_day_nodes_to_nodes_df.index = node_names\n",
    "\n",
    "# Print the DataFrame\n",
    "all_day_nodes_to_nodes_df"
   ]
  },
  {
   "cell_type": "code",
   "execution_count": null,
   "id": "cccacf56-65fa-434b-b12e-551340ad9288",
   "metadata": {},
   "outputs": [],
   "source": [
    "tar -xf 1543953_MoDOT_TopRoutes_XXExtnlsPolys_2021.zip"
   ]
  },
  {
   "cell_type": "code",
   "execution_count": null,
   "id": "510e48f3-12b6-4531-ba9c-6d8aad1548fc",
   "metadata": {
    "tags": []
   },
   "outputs": [],
   "source": [
    "# Assuming you already have all_day_nodes_to_nodes_matrix defined\n",
    "\n",
    "# Convert the NumPy matrix to a DataFrame\n",
    "all_day_nodes_to_nodes_df = pd.DataFrame(all_day_node_matrix)\n",
    "\n",
    "# Optionally, you can set row and column names to make it more informative\n",
    "node_names = [f\"Node {i+1}\" for i in range(num_nodes)]\n",
    "all_day_nodes_to_nodes_df.columns = node_names\n",
    "all_day_nodes_to_nodes_df.index = node_names\n",
    "\n",
    "# Print the DataFrame\n",
    "all_day_nodes_to_nodes_df"
   ]
  },
  {
   "cell_type": "markdown",
   "id": "04255fdd-9d70-454c-bc54-1ccb1d2b73c3",
   "metadata": {},
   "source": [
    "### Correlation Matrix"
   ]
  },
  {
   "cell_type": "code",
   "execution_count": null,
   "id": "5575d82d-6c96-450c-9006-d62913d551eb",
   "metadata": {
    "tags": []
   },
   "outputs": [],
   "source": [
    "#  Calculate the correlation matrix\n",
    "node_corr = all_day_nodes_to_nodes_df.corr()\n",
    "corr_corr = all_day_nodes_to_nodes_df.corr()\n",
    "\n",
    "plt.figure(figsize=(10, 8))\n",
    "sns.heatmap(node_corr, annot=True, cmap=\"coolwarm\", fmt=\".2f\", linewidths=0.5)\n",
    "sns.heatmap(corr_corr, annot=True, cmap=\"coolwarm\", fmt=\".2f\", linewidths=0.5)"
   ]
  },
  {
   "cell_type": "code",
   "execution_count": null,
   "id": "29a1a3be-5402-4ef8-8615-3bcbfd391ed2",
   "metadata": {},
   "outputs": [],
   "source": [
    "for i in range(0, 5):\n",
    "    n = random.randint(1, 30)\n",
    "    num_nodes.append(n)"
   ]
  },
  {
   "cell_type": "code",
   "execution_count": null,
   "id": "eaaef6b2-0466-4d58-ade5-d6e493ca4b94",
   "metadata": {},
   "outputs": [],
   "source": [
    "import numpy as np\n",
    "import random\n",
    "\n",
    "# Define the number of nodes\n",
    "num_nodes = 15\n",
    "\n",
    "# Create an empty matrix for all day traffic from nodes to nodes\n",
    "all_day_nodes_to_nodes_matrix = np.zeros((num_nodes, num_nodes))\n",
    "\n",
    "# Simulated traffic flows (replace with your actual data or estimation method)\n",
    "for i in range(num_nodes):\n",
    "    for j in range(num_nodes):\n",
    "        # Replace this with your traffic data or estimation method\n",
    "        traffic_flow = random.randint(0, 100)  # Random traffic flow for illustration\n",
    "        all_day_nodes_to_nodes_matrix[i, j] = traffic_flow\n",
    "\n",
    "# Print the all_day_nodes_to_nodes_matrix\n",
    "print(all_day_nodes_to_nodes_matrix)\n"
   ]
  },
  {
   "cell_type": "code",
   "execution_count": null,
   "id": "d80febc3-03dd-40dc-a3b8-2f9d9d117c6a",
   "metadata": {},
   "outputs": [],
   "source": [
    "# Set choropleth basemap\n",
    "basemap = mo_places.plot(column = \"ALAND\", cmap = \"YlGnBu\")\n",
    "\n",
    "# Plot transparent proportional symbols on top of basemap\n",
    "geo_state_pt.plot(ax = basemap, markersize = (numpy.sqrt(merged[\"total_revenue\"])), color = \"lightgray\", edgecolor = \"darkgray\", alpha = 0.7,legend = True, legend_kwds={\"fmt\": \"{:.0f}\"},scheme='natural_breaks', k=4)\n",
    "\n",
    "plt.title('Fig E-1: Revenue (Points) by Average Years as Customer and State')\n",
    "plt.axis('off')\n",
    "plt.show();"
   ]
  }
 ],
 "metadata": {
  "kernelspec": {
   "display_name": "Python 3 (ipykernel)",
   "language": "python",
   "name": "python3"
  },
  "language_info": {
   "codemirror_mode": {
    "name": "ipython",
    "version": 3
   },
   "file_extension": ".py",
   "mimetype": "text/x-python",
   "name": "python",
   "nbconvert_exporter": "python",
   "pygments_lexer": "ipython3",
   "version": "3.11.4"
  }
 },
 "nbformat": 4,
 "nbformat_minor": 5
}
